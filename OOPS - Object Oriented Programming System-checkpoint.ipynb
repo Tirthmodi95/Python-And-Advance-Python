{
 "cells": [
  {
   "cell_type": "code",
   "execution_count": 2,
   "id": "ca92f01f",
   "metadata": {},
   "outputs": [
    {
     "name": "stdout",
     "output_type": "stream",
     "text": [
      "hello world\n",
      "hheeelllloooo woorrllddd\n"
     ]
    }
   ],
   "source": [
    "## OOPS\n",
    "\n",
    "class test:\n",
    "    def func1(self):\n",
    "        return \"hello world\"\n",
    "    def func2(self):\n",
    "        return \"hheeelllloooo woorrllddd\"\n",
    "obj = test()\n",
    "print(obj.func1())\n",
    "print(obj.func2())"
   ]
  },
  {
   "cell_type": "code",
   "execution_count": 6,
   "id": "58d2bee4",
   "metadata": {},
   "outputs": [
    {
     "name": "stdout",
     "output_type": "stream",
     "text": [
      "5\n",
      "6\n"
     ]
    },
    {
     "ename": "TypeError",
     "evalue": "test.add() missing 2 required positional arguments: 'a' and 'b'",
     "output_type": "error",
     "traceback": [
      "\u001b[1;31m---------------------------------------------------------------------------\u001b[0m",
      "\u001b[1;31mTypeError\u001b[0m                                 Traceback (most recent call last)",
      "Cell \u001b[1;32mIn[6], line 11\u001b[0m\n\u001b[0;32m      8\u001b[0m b \u001b[38;5;241m=\u001b[39m \u001b[38;5;28mint\u001b[39m(\u001b[38;5;28minput\u001b[39m())\n\u001b[0;32m     10\u001b[0m obj \u001b[38;5;241m=\u001b[39m test()\n\u001b[1;32m---> 11\u001b[0m \u001b[38;5;28mprint\u001b[39m(obj\u001b[38;5;241m.\u001b[39madd())\n\u001b[0;32m     12\u001b[0m \u001b[38;5;28mprint\u001b[39m(obj\u001b[38;5;241m.\u001b[39msub())\n",
      "\u001b[1;31mTypeError\u001b[0m: test.add() missing 2 required positional arguments: 'a' and 'b'"
     ]
    }
   ],
   "source": [
    "class test:\n",
    "    \"\"\"This is a class for addition of two variable\"\"\"\n",
    "    def add(self,a,b):\n",
    "        return a+b\n",
    "    def sub(self,a,b):\n",
    "        return a-b\n",
    "a = int(input())\n",
    "b = int(input())\n",
    "\n",
    "obj = test()\n",
    "print(obj.add())\n",
    "print(obj.sub())"
   ]
  },
  {
   "cell_type": "code",
   "execution_count": 14,
   "id": "e19ac6de",
   "metadata": {},
   "outputs": [
    {
     "name": "stdout",
     "output_type": "stream",
     "text": [
      "8\n",
      "5\n"
     ]
    },
    {
     "data": {
      "text/plain": [
       "3"
      ]
     },
     "execution_count": 14,
     "metadata": {},
     "output_type": "execute_result"
    }
   ],
   "source": [
    "class test:\n",
    "    def __init__(self,a,b):\n",
    "        self.a = a\n",
    "        self.b = b\n",
    "    def add(self):\n",
    "        return self.a+self.b\n",
    "    def sub(self):\n",
    "        return self.a-self.b\n",
    "\n",
    "a=int(input())\n",
    "b=int(input())\n",
    "\n",
    "obj = test(a,b)\n",
    "obj.add()"
   ]
  },
  {
   "cell_type": "code",
   "execution_count": 18,
   "id": "7fa1fa49",
   "metadata": {},
   "outputs": [
    {
     "name": "stdout",
     "output_type": "stream",
     "text": [
      "Enter ID55\n",
      "Enter Nametirth\n",
      "Enter Age28\n",
      "ID:- 55  My Name Is tirth And My Age Is 28\n"
     ]
    }
   ],
   "source": [
    "class person:\n",
    "    def __init__(self,id,name,age):\n",
    "        self.id = id\n",
    "        self.name = name\n",
    "        self.age = age\n",
    "    def id(self):\n",
    "        return self.id\n",
    "    def name(self):\n",
    "        return self.name\n",
    "    def age(self):\n",
    "        return self.age\n",
    "id=int(input(\"Enter ID\"))\n",
    "name=input(\"Enter Name\")\n",
    "age=input(\"Enter Age\")\n",
    "\n",
    "obj=person(id,name,age)\n",
    "print(\"ID:-\",id,\" My Name Is\",name,\"And My Age Is\",age)"
   ]
  },
  {
   "cell_type": "code",
   "execution_count": 19,
   "id": "3fa87de7",
   "metadata": {},
   "outputs": [
    {
     "name": "stdout",
     "output_type": "stream",
     "text": [
      "My age is 23\n"
     ]
    }
   ],
   "source": [
    "class person:\n",
    "    \n",
    "    # init method or constructor\n",
    "    def __init__(self,name,age):\n",
    "        self.name = name\n",
    "        self.age = age\n",
    "    def say_hi(self):\n",
    "        print(\"Hello my name is\",self.name)\n",
    "    def age_1(self):\n",
    "        print(\"My age is\",self.age)\n",
    "        \n",
    "p = person('tirth',23)\n",
    "p.age_1()"
   ]
  },
  {
   "cell_type": "code",
   "execution_count": 4,
   "id": "43714136",
   "metadata": {},
   "outputs": [
    {
     "data": {
      "text/plain": [
       "'This is belogs to B class'"
      ]
     },
     "execution_count": 4,
     "metadata": {},
     "output_type": "execute_result"
    }
   ],
   "source": [
    "class A:\n",
    "    def func1(self):\n",
    "        return \"This is belogs to A class\"\n",
    "    def func12(self):\n",
    "        return \"This is belogs to A12 class\"\n",
    "class B(A):\n",
    "    def func2(self):\n",
    "        return \"This is belogs to B class\"\n",
    "\n",
    "obj_b = B()\n",
    "#obj_b.func1()\n",
    "#obj_b.func12()\n",
    "obj_b.func2()"
   ]
  },
  {
   "cell_type": "code",
   "execution_count": 22,
   "id": "8bdd848d",
   "metadata": {},
   "outputs": [
    {
     "data": {
      "text/plain": [
       "(34, 'anand')"
      ]
     },
     "execution_count": 22,
     "metadata": {},
     "output_type": "execute_result"
    }
   ],
   "source": [
    "class cars:\n",
    "    def __init__(self,model,colore,window,year):\n",
    "        self.model = model\n",
    "        self.colore = colore\n",
    "        self.window = window\n",
    "        self.year = year\n",
    "    def func_car2(self):\n",
    "        return self.model, self.colore, self.window, self.year\n",
    "    \n",
    "class cars2(cars):\n",
    "    def __init__(self,model,colore,window,year,id,city):\n",
    "        self.id = id\n",
    "        self.city = city\n",
    "        cars.__init__(self, model,colore,window,year)\n",
    "    def func_car3(self):\n",
    "        return self.id, self.city\n",
    "    \n",
    "obj = cars2('suv','black',4,2014,34,'anand')\n",
    "obj.func_car3()"
   ]
  },
  {
   "cell_type": "code",
   "execution_count": 26,
   "id": "08bb4637",
   "metadata": {},
   "outputs": [
    {
     "data": {
      "text/plain": [
       "(2, 'balcony_2')"
      ]
     },
     "execution_count": 26,
     "metadata": {},
     "output_type": "execute_result"
    }
   ],
   "source": [
    "class flat1:\n",
    "    def __init__(self,badroom_1,badroom_2):\n",
    "        self.badroom_1 = badroom_1\n",
    "        self.badroom_2 = badroom_2\n",
    "    def func_flat1(self):\n",
    "        return self.badroom_1, self.badroom_2\n",
    "class flat2(flat1):\n",
    "    def __init__(self,badroom_1,badroom_2,balcony_1,balcony_2):\n",
    "        self.balcony_1 = balcony_1\n",
    "        self.balcony_2 = balcony_2\n",
    "        flat1.__init__(self,badroom_1,badroom_2)\n",
    "    def func_flat2(self):\n",
    "        return self.balcony_1, self.balcony_2\n",
    "obj = flat2(1,'Badroom_2',2,'balcony_2')\n",
    "obj.func_flat2()\n",
    "#print(obj)"
   ]
  },
  {
   "cell_type": "code",
   "execution_count": 4,
   "id": "f446a2b8",
   "metadata": {},
   "outputs": [
    {
     "name": "stdout",
     "output_type": "stream",
     "text": [
      "John(36)\n"
     ]
    }
   ],
   "source": [
    "class Person:\n",
    "    def __init__(self, name, age):\n",
    "        self.name = name\n",
    "        self.age = age\n",
    "\n",
    "    def __str__(self):\n",
    "        return f\"{self.name}({self.age})\"\n",
    "\n",
    "p1 = Person(\"John\", 36)\n",
    "\n",
    "print(p1)"
   ]
  },
  {
   "cell_type": "code",
   "execution_count": 1,
   "id": "e8e4a21f",
   "metadata": {},
   "outputs": [
    {
     "name": "stdout",
     "output_type": "stream",
     "text": [
      "Enter Your First Name:- Tirth\n",
      "Enter Your last Name:- Modi\n",
      "Enter Your Graduation Year:- 2015\n",
      "My Name Is Tirth Modi And My Graduation Year Is 2015\n"
     ]
    }
   ],
   "source": [
    "class Person:\n",
    "    def __init__(self, fname, lname):\n",
    "        self.firstname = fname\n",
    "        self.lastname = lname\n",
    "\n",
    "    def printname(self):\n",
    "        print(self.firstname, self.lastname)\n",
    "\n",
    "class Student(Person):\n",
    "    def __init__(self, fname, lname):\n",
    "        super().__init__(fname, lname)\n",
    "        self.graduationyear = graduationyear\n",
    "\n",
    "firstname = input(\"Enter Your First Name:- \")\n",
    "lastname = input(\"Enter Your last Name:- \")\n",
    "graduationyear = eval(input(\"Enter Your Graduation Year:- \"))\n",
    "x = Student(firstname,lastname)\n",
    "print(\"My Name Is\",x.firstname, x.lastname,\"And My Graduation Year Is\", x.graduationyear)"
   ]
  },
  {
   "cell_type": "code",
   "execution_count": 2,
   "id": "4909d46a",
   "metadata": {},
   "outputs": [
    {
     "name": "stdout",
     "output_type": "stream",
     "text": [
      "Enter Your First Name:- Tirth\n",
      "Enter Your last Name:- Modi\n",
      "Enter Your Graduation Year:- 2015\n",
      "Enter Your City:- Baroda\n",
      "------------------------------------------------------------------------------------------------------------------------------\n",
      "~~~~~ Personal Details ~~~~~\n",
      "My Name Is Tirth Modi\n",
      "My Graduation Year Is 2015\n",
      "I Am Belong To Baroda\n",
      "Languages:  Python🐍 SQL💹 Data Scientist & Analytics Advance Excel Machine Learning PowerBI📊 Statistics Capstone Project.\n",
      "~~~~~~~ Experiance ~~~~~~~\n",
      "Bharat Pharmaceuticals Ltd.\n",
      "------------------------------------------------------------------------------------------------------------------------------\n"
     ]
    }
   ],
   "source": [
    "class Person:\n",
    "    def __init__(self, fname, lname):\n",
    "        self.firstname = fname\n",
    "        self.lastname = lname\n",
    "    def printname(self):\n",
    "        print(self.firstname, self.lastname)\n",
    "        #return self.firstname, self.lastname\n",
    "\n",
    "class Student(Person):\n",
    "    def __init__(self, fname, lname, graduationyear, city):\n",
    "        self.graduationyear = graduationyear\n",
    "        self.city = city\n",
    "        Person.__init__(self,firstname,lastname)\n",
    "    def printname2(self):\n",
    "        print(self.graduationyear, self.city)\n",
    "        \n",
    "        \n",
    "class BIT:\n",
    "    def __init__(self, language_1, language_2, language_3, language_4, language_5, language_6, language_7, language_8):\n",
    "        self.language_1 = language_1\n",
    "        self.language_2 = language_2\n",
    "        self.language_3 = language_3\n",
    "        self.language_4 = language_4\n",
    "        self.language_5 = language_5\n",
    "        self.language_6 = language_6\n",
    "        self.language_7 = language_7\n",
    "        self.language_8 = language_8        \n",
    "#        Person.__init__(self,firstname,lastname)\n",
    "    def printname3(self):\n",
    "        print(\"Languages: \",self.language_1, self.language_2, self.language_3, self.language_4, \n",
    "              self.language_5, self.language_6, self.language_7, self.language_8)\n",
    "        #return self.language_1, self.language_2    \n",
    "class Experiance(BIT):\n",
    "    def __init__(self, language_1, language_2, language_3, language_4, \n",
    "              language_5, language_6, language_7, language_8, Experiance):\n",
    "        self.Experiance = Experiance\n",
    "        BIT.__init__(self,language_1, language_2, language_3, language_4, \n",
    "              language_5, language_6, language_7, language_8)\n",
    "    def printname4(self):\n",
    "        print(self.Experiance)\n",
    "        \n",
    "firstname = input(\"Enter Your First Name:- \")\n",
    "lastname = input(\"Enter Your last Name:- \")\n",
    "graduationyear = eval(input(\"Enter Your Graduation Year:- \"))\n",
    "city = input(\"Enter Your City:- \")\n",
    "x = Student(firstname,lastname,graduationyear,city)\n",
    "print(\"------------------------------------------------------------------------------------------------------------------------------\")\n",
    "print(\"~~~~~ Personal Details ~~~~~\")\n",
    "print(\"My Name Is\",x.firstname, x.lastname)\n",
    "print(\"My Graduation Year Is\", x.graduationyear)\n",
    "print(\"I Am Belong To\",x.city)\n",
    "x = BIT(\"Python🐍\",\"SQL💹\",\"Data Scientist & Analytics\",\"Advance Excel\",\n",
    "        \"Machine Learning\",\"PowerBI📊\",\"Statistics\",\"Capstone Project.\")\n",
    "x.printname3()\n",
    "print(\"~~~~~~~ Experiance ~~~~~~~\")\n",
    "obj = Experiance(\"Python🐍\",\"SQL💹\",\"Data Scientist & Analytics\",\"Advance Excel\",\n",
    "        \"Machine Learning\",\"PowerBI📊\",\"Statistics\",\"Capstone Project.\",'Bharat Pharmaceuticals Ltd.')\n",
    "obj.printname4()\n",
    "print(\"------------------------------------------------------------------------------------------------------------------------------\")\n",
    "#Experiance = eval(input(\"Enter Experiance:-\"))\n",
    "\n",
    "\n"
   ]
  },
  {
   "cell_type": "code",
   "execution_count": 70,
   "id": "aaf9fe77",
   "metadata": {},
   "outputs": [
    {
     "name": "stdout",
     "output_type": "stream",
     "text": [
      "Enter Your Full Name:- Tirth R Modi\n",
      "Enter Your City:- Himatnagar\n",
      "Enter Your Collage Name:- Grow More Group Of Institutions\n",
      "Enter Your Graduation Year:- 2015\n",
      "Enter Present Company Name:- Bharat Parenterls Ltd\n",
      "Enter Your Total Experiance:- 5.4\n",
      "Enter Your Skill:-Python\n",
      "Enter Your Skill:-SQL\n",
      "Enter Your Skill:-Power BI\n",
      "------------------------------------------------------------------------------------------------------------------------------\n",
      "~~~~~ Personal Details ~~~~~\n",
      "My Name Is Tirth R Modi\n",
      "I Am Belong To Himatnagar\n",
      "My Collage Name Is Grow More Group Of Institutions\n",
      "My Graduation Year Is 2015\n",
      "~~~~~~~ Experiance ~~~~~~~\n",
      "Company Name Is Bharat Parenterls Ltd\n",
      "Total Experiance Is 5.4 Year\n",
      "~~~~~~~~ Skill ~~~~~~~~\n",
      "My Technical Skill Is Below\n",
      "['Python', 'SQL', 'Power BI']\n",
      "------------------------------------------------------------------------------------------------------------------------------\n"
     ]
    }
   ],
   "source": [
    "fullname = input(\"Enter Your Full Name:- \")\n",
    "city = input(\"Enter Your City:- \")\n",
    "collagename = input(\"Enter Your Collage Name:- \")\n",
    "graduationyear = eval(input(\"Enter Your Graduation Year:- \"))\n",
    "CompanyName = input(\"Enter Present Company Name:- \")\n",
    "totalexp = eval(input(\"Enter Your Total Experiance:- \"))\n",
    "\n",
    "class Person:\n",
    "    def __init__(self, fullname, city):\n",
    "        self.fullname = fullname\n",
    "        self.city = city\n",
    "    def printname1(self):\n",
    "        return self.fullname, self.city\n",
    "\n",
    "class Student(Person):\n",
    "    def __init__(self, fullname, city, collagename, graduationyear):\n",
    "        self.collagename = collagename\n",
    "        self.graduationyear = graduationyear\n",
    "        Person.__init__(self,fullname,city)\n",
    "    def printname2(self):\n",
    "        return self.collagename, self.graduationyear\n",
    "x = Student(fullname,city,collagename,graduationyear)\n",
    "\n",
    "class Experiance:\n",
    "    def __init__(self, CompanyName, totalexp):\n",
    "        self.CompanyName = CompanyName\n",
    "        self.totalexp = totalexp\n",
    "    def printname3(self):\n",
    "        return self.CompanyName, self.totalexp\n",
    "skl=[]\n",
    "for i in range(3):\n",
    "    x1 = input(\"Enter Your Skill:-\")\n",
    "    skl.append(x1)\n",
    "    class Skill(Experiance):\n",
    "        def __init__(self, CompanyName, totalexp, skill, skill1, skill2):\n",
    "            self.skill = skill\n",
    "            self.skill1 = skill1\n",
    "            self.skill2 = skill2\n",
    "            Experiance.__init__(self,CompanyName, totalexp)\n",
    "        def printname4(self):\n",
    "            return self.skill, self.skill1, self.skill2\n",
    "print(\"------------------------------------------------------------------------------------------------------------------------------\")\n",
    "print(\"~~~~~ Personal Details ~~~~~\")\n",
    "print(\"My Name Is\",fullname)\n",
    "print(\"I Am Belong To\",city)\n",
    "print(\"My Collage Name Is\",collagename)\n",
    "print(\"My Graduation Year Is\", graduationyear)\n",
    "print(\"~~~~~~~ Experiance ~~~~~~~\")\n",
    "print(\"Company Name Is\",CompanyName)\n",
    "print(\"Total Experiance Is\",totalexp,\"Year\")\n",
    "print(\"~~~~~~~~ Skill ~~~~~~~~\")\n",
    "print(\"My Technical Skill Is Below\")\n",
    "print(skl)\n",
    "print(\"------------------------------------------------------------------------------------------------------------------------------\")\n"
   ]
  },
  {
   "cell_type": "code",
   "execution_count": 65,
   "id": "c1518b01",
   "metadata": {},
   "outputs": [
    {
     "data": {
      "text/plain": [
       "('Tirth Modi', 'Himatnagar')"
      ]
     },
     "execution_count": 65,
     "metadata": {},
     "output_type": "execute_result"
    }
   ],
   "source": [
    "obj = Student('Tirth Modi','Himatnagar','Grow More Group Of Institutions',2015)\n",
    "obj.printname1()"
   ]
  },
  {
   "cell_type": "code",
   "execution_count": 66,
   "id": "3ffe92e0",
   "metadata": {},
   "outputs": [
    {
     "data": {
      "text/plain": [
       "('Grow More Group Of Institutions', 2015)"
      ]
     },
     "execution_count": 66,
     "metadata": {},
     "output_type": "execute_result"
    }
   ],
   "source": [
    "obj = Student('Tirth Modi','Himatnagar','Grow More Group Of Institutions',2015)\n",
    "obj.printname2()"
   ]
  },
  {
   "cell_type": "code",
   "execution_count": 67,
   "id": "4debc4fd",
   "metadata": {},
   "outputs": [
    {
     "data": {
      "text/plain": [
       "('Bharat Parenterls Ltd', 5.4)"
      ]
     },
     "execution_count": 67,
     "metadata": {},
     "output_type": "execute_result"
    }
   ],
   "source": [
    "obj = Skill('Bharat Parenterls Ltd',5.4,'Python','SQL','Power BI')\n",
    "obj.printname3()"
   ]
  },
  {
   "cell_type": "code",
   "execution_count": 68,
   "id": "251dbf2b",
   "metadata": {},
   "outputs": [
    {
     "data": {
      "text/plain": [
       "('Python', 'SQL', 'Power BI')"
      ]
     },
     "execution_count": 68,
     "metadata": {},
     "output_type": "execute_result"
    }
   ],
   "source": [
    "obj = Skill('Bharat Parenterls Ltd',5.4,'Python','SQL','Power BI')\n",
    "obj.printname4()"
   ]
  },
  {
   "cell_type": "code",
   "execution_count": null,
   "id": "1c080d8f",
   "metadata": {},
   "outputs": [],
   "source": []
  }
 ],
 "metadata": {
  "kernelspec": {
   "display_name": "Python 3 (ipykernel)",
   "language": "python",
   "name": "python3"
  },
  "language_info": {
   "codemirror_mode": {
    "name": "ipython",
    "version": 3
   },
   "file_extension": ".py",
   "mimetype": "text/x-python",
   "name": "python",
   "nbconvert_exporter": "python",
   "pygments_lexer": "ipython3",
   "version": "3.11.3"
  }
 },
 "nbformat": 4,
 "nbformat_minor": 5
}
