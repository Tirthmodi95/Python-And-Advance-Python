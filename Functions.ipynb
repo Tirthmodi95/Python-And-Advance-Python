{
 "cells": [
  {
   "cell_type": "code",
   "execution_count": null,
   "id": "31b42ae9",
   "metadata": {},
   "outputs": [],
   "source": [
    "user defined functions:\n",
    "def functionname():\n",
    "    body"
   ]
  },
  {
   "cell_type": "code",
   "execution_count": 5,
   "id": "6cceaeb0",
   "metadata": {},
   "outputs": [
    {
     "name": "stdout",
     "output_type": "stream",
     "text": [
      "Hellow\n",
      "Hellow\n",
      "Hellow\n"
     ]
    }
   ],
   "source": [
    "def abc():\n",
    "    print(\"Hellow\")\n",
    "abc()\n",
    "abc()\n",
    "abc()"
   ]
  },
  {
   "cell_type": "code",
   "execution_count": 6,
   "id": "89a8a7a9",
   "metadata": {},
   "outputs": [
    {
     "name": "stdout",
     "output_type": "stream",
     "text": [
      "Enter Value Of a:-10\n",
      "Enter Value Of b:-11\n",
      "Addition is:- 21\n"
     ]
    }
   ],
   "source": [
    "def add(a,b):\n",
    "    ans=a+b\n",
    "    print(\"Addition is:-\",ans)\n",
    "a1=eval(input(\"Enter Value Of a:-\"))\n",
    "b1=eval(input(\"Enter Value Of b:-\"))\n",
    "add(a1,b1)"
   ]
  },
  {
   "cell_type": "code",
   "execution_count": 8,
   "id": "5bbc9c3e",
   "metadata": {},
   "outputs": [
    {
     "name": "stdout",
     "output_type": "stream",
     "text": [
      "Enter Value Of a:-10\n",
      "Enter Value Of b:-5\n",
      "Addition is:- 15\n",
      "Subtaction is:- 5\n",
      "Multifiction is:- 50\n"
     ]
    }
   ],
   "source": [
    "def add(a,b):\n",
    "    ans=a+b\n",
    "    print(\"Addition is:-\",ans)\n",
    "def sub(a,b):\n",
    "    ans=a-b\n",
    "    print(\"Subtaction is:-\",ans)\n",
    "def mul(a,b):\n",
    "    ans=a*b\n",
    "    print(\"Multifiction is:-\",ans)\n",
    "a1=eval(input(\"Enter Value Of a:-\"))\n",
    "b1=eval(input(\"Enter Value Of b:-\"))\n",
    "add(a1,b1)\n",
    "sub(a1,b1)\n",
    "mul(a1,b1)"
   ]
  },
  {
   "cell_type": "code",
   "execution_count": null,
   "id": "65206123",
   "metadata": {},
   "outputs": [],
   "source": [
    "class: class is a collection of variable and function.\n",
    "syntax:\n",
    "    class classname\n",
    "How to call class functions???\n",
    "syntax:\n",
    "    for that you need to create object of class.\n",
    "objectname = classname()\n",
    "objectname.functionname()"
   ]
  },
  {
   "cell_type": "code",
   "execution_count": 9,
   "id": "3501e700",
   "metadata": {},
   "outputs": [
    {
     "name": "stdout",
     "output_type": "stream",
     "text": [
      "Welcome to Goa\n",
      "Value of a 3\n"
     ]
    }
   ],
   "source": [
    "class abc:\n",
    "    def display(self,a):\n",
    "        print(\"Welcome to Goa\")\n",
    "        print(\"Value of a\",a)\n",
    "x=abc()       # x is Object\n",
    "x.display(3)"
   ]
  },
  {
   "cell_type": "code",
   "execution_count": 11,
   "id": "93730ea7",
   "metadata": {},
   "outputs": [
    {
     "name": "stdout",
     "output_type": "stream",
     "text": [
      "Hello from a Function\n"
     ]
    }
   ],
   "source": [
    "#..Python Functions..#\n",
    "\n",
    "#..Creating a Function\n",
    "#..In Python a function is defined using the def keyword:\n",
    "def my_function():\n",
    "    print(\"Hello from a Function\")\n",
    "my_function()         #..Calling a Function"
   ]
  },
  {
   "cell_type": "code",
   "execution_count": 15,
   "id": "5df0bcd3",
   "metadata": {},
   "outputs": [
    {
     "name": "stdout",
     "output_type": "stream",
     "text": [
      "tirth@gmail.com\n",
      "tirthmodi@gmail.com\n",
      "tm@gmail.com\n"
     ]
    }
   ],
   "source": [
    "#..Arguments\n",
    "def my_function(self):\n",
    "    print(self + \"@gmail.com\")\n",
    "my_function(\"tirth\")\n",
    "my_function(\"tirthmodi\")\n",
    "my_function(\"tm\")"
   ]
  },
  {
   "cell_type": "code",
   "execution_count": 16,
   "id": "ab8c297a",
   "metadata": {},
   "outputs": [
    {
     "name": "stdout",
     "output_type": "stream",
     "text": [
      "tirth.modi@gmail.com\n"
     ]
    }
   ],
   "source": [
    "#..Number of Arguments\n",
    "def my_function(fname, lname):\n",
    "    print(fname + \"\" + lname)\n",
    "my_function(\"tirth.modi\",\"@gmail.com\")"
   ]
  },
  {
   "cell_type": "code",
   "execution_count": 18,
   "id": "0fd8edd0",
   "metadata": {},
   "outputs": [
    {
     "name": "stdout",
     "output_type": "stream",
     "text": [
      "Hello Hello Hello \n",
      "\n",
      "Hello Hello Hello Hello Hello \n",
      "\n",
      "Hello Hello \n",
      "\n"
     ]
    }
   ],
   "source": [
    "def print_hello(n):\n",
    "    print('Hello '*n)\n",
    "    print()\n",
    "print_hello(3)\n",
    "print_hello(5)\n",
    "times=2\n",
    "print_hello(times)"
   ]
  },
  {
   "cell_type": "code",
   "execution_count": 21,
   "id": "8a085f97",
   "metadata": {},
   "outputs": [
    {
     "name": "stdout",
     "output_type": "stream",
     "text": [
      "Hello Hello Hello Hello Hello \n",
      "\n",
      "A A A A A A A A A A \n",
      "\n"
     ]
    }
   ],
   "source": [
    "def multiple_print(string, n):\n",
    "    print(string * n)\n",
    "    print()\n",
    "multiple_print('Hello ',5)\n",
    "multiple_print('A ',10)"
   ]
  },
  {
   "cell_type": "code",
   "execution_count": 8,
   "id": "81ccb2dc",
   "metadata": {},
   "outputs": [
    {
     "name": "stdout",
     "output_type": "stream",
     "text": [
      "Enter Your Age:- 54\n",
      "Enter Your Born Year:- 1970\n",
      "Adddition Of Age and Born Year:- 2024\n"
     ]
    }
   ],
   "source": [
    "#..Returning Value\n",
    "def sub(age,bornyear):\n",
    "    ans= age + bornyear\n",
    "    print(\"Adddition Of Age and Born Year:-\",ans)\n",
    "a=eval(input(\"Enter Your Age:- \"))\n",
    "b=eval(input(\"Enter Your Born Year:- \"))\n",
    "sub(a,b)"
   ]
  },
  {
   "cell_type": "code",
   "execution_count": 26,
   "id": "4f25e174",
   "metadata": {},
   "outputs": [
    {
     "name": "stdout",
     "output_type": "stream",
     "text": [
      "68.0\n"
     ]
    }
   ],
   "source": [
    "#..Returning Value\n",
    "#..We can write function that perform calculation and return a result.\n",
    "def convert(t):\n",
    "    return t*9/5+32\n",
    "print(convert(20))"
   ]
  },
  {
   "cell_type": "code",
   "execution_count": 27,
   "id": "f96fd08d",
   "metadata": {},
   "outputs": [
    {
     "ename": "IndentationError",
     "evalue": "expected an indented block after function definition on line 1 (2334340567.py, line 2)",
     "output_type": "error",
     "traceback": [
      "\u001b[1;36m  Cell \u001b[1;32mIn[27], line 2\u001b[1;36m\u001b[0m\n\u001b[1;33m    fancy_print('Hi', style='bold')\u001b[0m\n\u001b[1;37m    ^\u001b[0m\n\u001b[1;31mIndentationError\u001b[0m\u001b[1;31m:\u001b[0m expected an indented block after function definition on line 1\n"
     ]
    }
   ],
   "source": [
    "def fancy_print(text, color='black',background='white',style='normol',justify='left'):\n",
    "fancy_print('Hi', style='bold')\n",
    "fancy_print('Hi', color='yellow',background='black')\n",
    "fancy_print('Hi')"
   ]
  },
  {
   "cell_type": "code",
   "execution_count": 3,
   "id": "97e3a64f",
   "metadata": {},
   "outputs": [
    {
     "name": "stdout",
     "output_type": "stream",
     "text": [
      "Enter Currant Year:- 2023\n",
      "Enter Your Born Year:- 1995\n",
      "Your Age Is:-  28\n"
     ]
    }
   ],
   "source": [
    "#..Returning Value\n",
    "def age_cal(currntyear,bornyear):\n",
    "    ans= currntyear - bornyear\n",
    "    print(\"Your Age Is:- \",ans)\n",
    "a=eval(input(\"Enter Currant Year:- \"))\n",
    "b=eval(input(\"Enter Your Born Year:- \"))\n",
    "age_cal(a,b) "
   ]
  },
  {
   "cell_type": "code",
   "execution_count": 4,
   "id": "ef61764b",
   "metadata": {},
   "outputs": [
    {
     "name": "stdout",
     "output_type": "stream",
     "text": [
      "2023-08-08\n"
     ]
    }
   ],
   "source": [
    "import datetime\n",
    "\n",
    "today = datetime.date.today()\n",
    "\n",
    "print(today)"
   ]
  },
  {
   "cell_type": "code",
   "execution_count": 2,
   "id": "46c95c38",
   "metadata": {},
   "outputs": [
    {
     "name": "stdout",
     "output_type": "stream",
     "text": [
      "2023\n"
     ]
    }
   ],
   "source": [
    "import datetime\n",
    "\n",
    "today = datetime.date.today()\n",
    "\n",
    "year = today.year\n",
    "\n",
    "print(year)"
   ]
  },
  {
   "cell_type": "code",
   "execution_count": 11,
   "id": "e9a1cde9",
   "metadata": {},
   "outputs": [
    {
     "name": "stdout",
     "output_type": "stream",
     "text": [
      "Enter Your Born Year:- 1995\n",
      "Your Age Is:-  28\n"
     ]
    }
   ],
   "source": [
    "import datetime\n",
    "today = datetime.date.today()\n",
    "currntyear = today.year\n",
    "def age_cal(currntyear,bornyear):\n",
    "    ans= currntyear - bornyear\n",
    "    print(\"Your Age Is:- \",ans)\n",
    "a=currntyear\n",
    "b=eval(input(\"Enter Your Born Year:- \"))\n",
    "age_cal(a,b) "
   ]
  },
  {
   "cell_type": "code",
   "execution_count": 13,
   "id": "a9f20eb8",
   "metadata": {},
   "outputs": [
    {
     "name": "stdout",
     "output_type": "stream",
     "text": [
      "10416\n"
     ]
    }
   ],
   "source": [
    "import datetime\n",
    "birthday = datetime.date(1995,2,1) #datetime.date(YEAR,MONTH,DAY)\n",
    "now = datetime.date.today()\n",
    "delta = now - birthday\n",
    "print(delta.days)"
   ]
  },
  {
   "cell_type": "code",
   "execution_count": 3,
   "id": "8d2c7c1c",
   "metadata": {},
   "outputs": [
    {
     "name": "stdout",
     "output_type": "stream",
     "text": [
      "Enter Your Born Year:- 1995\n",
      "Your Age Is:-  28 Year\n",
      "Your Age Is:-  28 Year 196 Days\n",
      "Total Days:- ( 10416 Days )\n"
     ]
    }
   ],
   "source": [
    "import datetime\n",
    "today = datetime.date.today()\n",
    "birthday = datetime.date(1995,2,1)\n",
    "#birthday = input(\"Enter Your Birthdate:-\")\n",
    "now = datetime.date.today()\n",
    "delta = now - birthday\n",
    "currntyear = today.year\n",
    "def age_cal(currntyear,bornyear):\n",
    "    ans= currntyear - bornyear\n",
    "    ans1= delta.days-ans*365\n",
    "    print(\"Your Age Is:- \",ans,\"Year\")\n",
    "    #print(\"Your Age In Day:- \",ans1,\"Days\")\n",
    "    print(\"Your Age Is:- \",ans,\"Year\",ans1,\"Days\")\n",
    "    print(\"Total Days:- (\",delta.days,\"Days )\")\n",
    "a=currntyear\n",
    "b=eval(input(\"Enter Your Born Year:- \"))\n",
    "age_cal(a,b) "
   ]
  },
  {
   "cell_type": "code",
   "execution_count": null,
   "id": "4bc07590",
   "metadata": {},
   "outputs": [],
   "source": []
  }
 ],
 "metadata": {
  "kernelspec": {
   "display_name": "Python 3 (ipykernel)",
   "language": "python",
   "name": "python3"
  },
  "language_info": {
   "codemirror_mode": {
    "name": "ipython",
    "version": 3
   },
   "file_extension": ".py",
   "mimetype": "text/x-python",
   "name": "python",
   "nbconvert_exporter": "python",
   "pygments_lexer": "ipython3",
   "version": "3.11.3"
  }
 },
 "nbformat": 4,
 "nbformat_minor": 5
}
