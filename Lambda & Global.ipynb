{
 "cells": [
  {
   "cell_type": "code",
   "execution_count": 1,
   "id": "d324a905",
   "metadata": {},
   "outputs": [
    {
     "name": "stdout",
     "output_type": "stream",
     "text": [
      "['J', 'Even', 'M']\n"
     ]
    }
   ],
   "source": [
    "def inspect(mystring):\n",
    "    if len(mystring)%2==0:\n",
    "        return \"Even\"\n",
    "    else:\n",
    "        return mystring[0]\n",
    "months=[\"January\",\"February\",\"March\"]\n",
    "print(list(map(inspect,months)))"
   ]
  },
  {
   "cell_type": "code",
   "execution_count": 2,
   "id": "e3602482",
   "metadata": {},
   "outputs": [
    {
     "data": {
      "text/plain": [
       "['b', 'Even', 'k']"
      ]
     },
     "execution_count": 2,
     "metadata": {},
     "output_type": "execute_result"
    }
   ],
   "source": [
    "list(map(lambda x:\"Even\" if len(x)%2==0 else x[0],['bunny','sudhansh','krish']))"
   ]
  },
  {
   "cell_type": "code",
   "execution_count": 8,
   "id": "6d1e01fb",
   "metadata": {},
   "outputs": [
    {
     "name": "stdout",
     "output_type": "stream",
     "text": [
      "Please enter your name: tirth modi\n",
      "Vowels in your name are: ['i', 'o', 'i']\n"
     ]
    }
   ],
   "source": [
    "name = input(\"Please enter your name: \")\n",
    "vowels=list(filter(lambda ch: ch in \"aeiou\" , name))\n",
    "if len(vowels)==0:\n",
    "    print(\"No vowels in your name\")\n",
    "else:\n",
    "    print(\"Vowels in your name are:\",vowels)"
   ]
  },
  {
   "cell_type": "code",
   "execution_count": 7,
   "id": "800283cf",
   "metadata": {},
   "outputs": [
    {
     "name": "stdout",
     "output_type": "stream",
     "text": [
      "Please enter your name: tirth\n",
      "Vowels in your name are: [False, True, False, False, False]\n"
     ]
    }
   ],
   "source": [
    "name = input(\"Please enter your name: \")\n",
    "vowels=list(map(lambda ch: ch in \"aeiou\" , name))\n",
    "if len(vowels)==0:\n",
    "    print(\"No vowels in your name\")\n",
    "else:\n",
    "    print(\"Vowels in your name are:\",vowels)"
   ]
  },
  {
   "cell_type": "code",
   "execution_count": 3,
   "id": "3ad205af",
   "metadata": {},
   "outputs": [
    {
     "name": "stdout",
     "output_type": "stream",
     "text": [
      "I love python\n"
     ]
    }
   ],
   "source": [
    "s = \"I love python\" #Global Variable\n",
    "def f():\n",
    "    print(s)\n",
    "def f1():\n",
    "    print(s)\n",
    "f1()"
   ]
  },
  {
   "cell_type": "code",
   "execution_count": 4,
   "id": "2f468a70",
   "metadata": {},
   "outputs": [
    {
     "name": "stdout",
     "output_type": "stream",
     "text": [
      "I Love C\n",
      "1542164980400\n",
      "I Love Python\n",
      "1542178845936\n"
     ]
    }
   ],
   "source": [
    "s2 = \"I Love Python\"\n",
    "def f():\n",
    "    s2 = \"I Love C\"\n",
    "    print(s2)\n",
    "    print(id(s2))\n",
    "f()\n",
    "print(s2)\n",
    "print(id(s2))"
   ]
  },
  {
   "cell_type": "code",
   "execution_count": 5,
   "id": "55083b51",
   "metadata": {},
   "outputs": [
    {
     "name": "stdout",
     "output_type": "stream",
     "text": [
      "I Love C\n",
      "1542165450416\n",
      "I Love C\n",
      "1542165450416\n"
     ]
    }
   ],
   "source": [
    "s = \"I LOve Python\"\n",
    "def f():\n",
    "    global s\n",
    "    s=\"I Love C\"\n",
    "    print(s)\n",
    "    print(id(s))\n",
    "f()\n",
    "print(s)\n",
    "print(id(s))"
   ]
  },
  {
   "cell_type": "code",
   "execution_count": 6,
   "id": "f6267a18",
   "metadata": {},
   "outputs": [
    {
     "name": "stdout",
     "output_type": "stream",
     "text": [
      "Global :  1\n",
      "Inside f():  1\n",
      "Global :  1\n",
      "Inside g():  2\n",
      "Global :  1\n",
      "Inside h():  3\n",
      "Global :  3\n"
     ]
    }
   ],
   "source": [
    "a=1\n",
    "def f():\n",
    "    print(\"Inside f(): \",a)\n",
    "def g():\n",
    "    a = 2\n",
    "    print(\"Inside g(): \",a)\n",
    "def h():\n",
    "    global a\n",
    "    a = 3\n",
    "    print(\"Inside h(): \",a)\n",
    "print(\"Global : \",a)\n",
    "f()\n",
    "print(\"Global : \",a)\n",
    "g()\n",
    "print(\"Global : \",a)\n",
    "h()\n",
    "print(\"Global : \",a)"
   ]
  },
  {
   "cell_type": "code",
   "execution_count": null,
   "id": "70c09207",
   "metadata": {},
   "outputs": [],
   "source": []
  }
 ],
 "metadata": {
  "kernelspec": {
   "display_name": "Python 3 (ipykernel)",
   "language": "python",
   "name": "python3"
  },
  "language_info": {
   "codemirror_mode": {
    "name": "ipython",
    "version": 3
   },
   "file_extension": ".py",
   "mimetype": "text/x-python",
   "name": "python",
   "nbconvert_exporter": "python",
   "pygments_lexer": "ipython3",
   "version": "3.11.3"
  }
 },
 "nbformat": 4,
 "nbformat_minor": 5
}
