{
 "cells": [
  {
   "cell_type": "code",
   "execution_count": 1,
   "id": "10c0af9e",
   "metadata": {},
   "outputs": [
    {
     "name": "stdout",
     "output_type": "stream",
     "text": [
      "hello\n"
     ]
    }
   ],
   "source": [
    "print(\"hello\")"
   ]
  },
  {
   "cell_type": "code",
   "execution_count": 3,
   "id": "0d0e2d7d",
   "metadata": {},
   "outputs": [
    {
     "name": "stdout",
     "output_type": "stream",
     "text": [
      "good morninggood morninggood morninggood morninggood morning\n"
     ]
    }
   ],
   "source": [
    "print(\"good morning\"*5)"
   ]
  },
  {
   "cell_type": "code",
   "execution_count": 6,
   "id": "49b6e32c",
   "metadata": {},
   "outputs": [
    {
     "name": "stdout",
     "output_type": "stream",
     "text": [
      "hello good night good evening\n"
     ]
    }
   ],
   "source": [
    "print(\"hello\",end=\" \")\n",
    "print(\"good night\",end=\" \")\n",
    "print(\"good evening\")"
   ]
  },
  {
   "cell_type": "code",
   "execution_count": 8,
   "id": "5f49346b",
   "metadata": {},
   "outputs": [
    {
     "name": "stdout",
     "output_type": "stream",
     "text": [
      "welcome***good by***good morning\n"
     ]
    }
   ],
   "source": [
    "print(\"welcome\",\"good by\",\"good morning\",sep=\"***\")"
   ]
  },
  {
   "cell_type": "code",
   "execution_count": 9,
   "id": "38f8532e",
   "metadata": {},
   "outputs": [
    {
     "name": "stdout",
     "output_type": "stream",
     "text": [
      "10\n"
     ]
    }
   ],
   "source": [
    "a=10\n",
    "print(a)"
   ]
  },
  {
   "cell_type": "code",
   "execution_count": 10,
   "id": "b268486c",
   "metadata": {},
   "outputs": [
    {
     "name": "stdout",
     "output_type": "stream",
     "text": [
      "20\n"
     ]
    }
   ],
   "source": [
    "b=20\n",
    "print(b)"
   ]
  },
  {
   "cell_type": "code",
   "execution_count": 1,
   "id": "678793a8",
   "metadata": {},
   "outputs": [
    {
     "name": "stdout",
     "output_type": "stream",
     "text": [
      "First Name of aTIRTH\n",
      "Middle Name of bR.\n",
      "Last Name of cMODI\n",
      "Full Name is  TIRTH R. MODI\n"
     ]
    }
   ],
   "source": [
    "a=input(\"First Name of a\")\n",
    "b=input(\"Middle Name of b\")\n",
    "c=input(\"Last Name of c\")\n",
    "print(\"Full Name is \",a+\" \"+b+\" \"+c)"
   ]
  },
  {
   "cell_type": "code",
   "execution_count": 1,
   "id": "44d00e9b",
   "metadata": {},
   "outputs": [
    {
     "name": "stdout",
     "output_type": "stream",
     "text": [
      "enter value of a5\n",
      "enter value of b5\n",
      "enter value of c5\n",
      "enter value of d5\n",
      "10\n"
     ]
    }
   ],
   "source": [
    "a=eval(input(\"enter value of a\"))\n",
    "b=eval(input(\"enter value of b\"))\n",
    "c=eval(input(\"enter value of c\"))\n",
    "d=eval(input(\"enter value of d\"))\n",
    "ans=(a+b+c)-d\n",
    "print(ans)"
   ]
  },
  {
   "cell_type": "code",
   "execution_count": 7,
   "id": "57f5cc04",
   "metadata": {},
   "outputs": [
    {
     "name": "stdout",
     "output_type": "stream",
     "text": [
      "enter value of a5\n",
      "25\n"
     ]
    }
   ],
   "source": [
    "#4) Ask the user to enter a number. Print out the square of the number, but use the sep optional argument to print it out in a full sentence that ends in a period. Sample output is shown below.\n",
    "a=eval(input(\"enter value of a\"))\n",
    "ans=a*a\n",
    "print(ans)"
   ]
  },
  {
   "cell_type": "code",
   "execution_count": 10,
   "id": "227e76f5",
   "metadata": {},
   "outputs": [
    {
     "name": "stdout",
     "output_type": "stream",
     "text": [
      "enter value of a7\n",
      "7---14---21---28---35\n"
     ]
    }
   ],
   "source": [
    "#5) Ask the user to enter a number x. Use the sep optional argument to print out x, 2x, 3x, 4x, and 5x, each separated by three dashes, like below.\n",
    "a=eval(input(\"enter value of a\"))\n",
    "print(a,a*2,a*3,a*4,a*5,sep=\"---\")"
   ]
  },
  {
   "cell_type": "code",
   "execution_count": 14,
   "id": "3a58ff67",
   "metadata": {},
   "outputs": [
    {
     "name": "stdout",
     "output_type": "stream",
     "text": [
      "enter value of KG a100\n",
      "220.00000000000003\n"
     ]
    }
   ],
   "source": [
    "#6) Write a program that asks the user for a weight in kilograms and converts it to pounds. There are 2.2 pounds in a kilogram.\n",
    "a=eval(input(\"enter value of KG a\"))\n",
    "print(a*2.2)"
   ]
  },
  {
   "cell_type": "code",
   "execution_count": 17,
   "id": "2fe9476a",
   "metadata": {},
   "outputs": [
    {
     "name": "stdout",
     "output_type": "stream",
     "text": [
      "enter value of a10\n",
      "enter value of b10\n",
      "enter value of c10\n",
      "Total Sum Of  30\n",
      "Total Avg. Of  10.0\n"
     ]
    }
   ],
   "source": [
    "#7) Write a program that asks the user to enter three numbers (use three separate input statements). Create variables called total and average that hold the sum and average of the three numbers and print out the values of total and average.\n",
    "a=eval(input(\"enter value of a\"))\n",
    "b=eval(input(\"enter value of b\"))\n",
    "c=eval(input(\"enter value of c\"))\n",
    "print(\"Total Sum Of \",a+b+c)\n",
    "print(\"Total Avg. Of \",(a+b+c)/3)"
   ]
  },
  {
   "cell_type": "code",
   "execution_count": 3,
   "id": "d4b447cf",
   "metadata": {},
   "outputs": [
    {
     "name": "stdout",
     "output_type": "stream",
     "text": [
      "enter value of bill a500\n",
      "enter value of tip b50\n",
      "Total Bill:-  500 /-\n",
      "Total Percentage Of Tip:-  10.0 %\n",
      "Final Amount Of Bill With 18% Gst:-  578.2 /-\n"
     ]
    }
   ],
   "source": [
    "#8) A lot of cellphones have tip calculators. Write one. Ask the user for the price of the meal and the percent tip they want to leave. Then print both the tip amount and the total bill with the tip included.\n",
    "a=eval(input(\"enter value of bill a\"))\n",
    "b=eval(input(\"enter value of tip b\"))\n",
    "ans=a/b\n",
    "ans1=(a-ans)\n",
    "ans2=(ans1*0.18)\n",
    "print(\"Total Bill:- \", a,\"/-\")\n",
    "print(\"Total Percentage Of Tip:- \", ans,\"%\")\n",
    "print(\"Final Amount Of Bill With 18% Gst:- \", ans1+ans2,\"/-\")"
   ]
  },
  {
   "cell_type": "code",
   "execution_count": 2,
   "id": "90645690",
   "metadata": {},
   "outputs": [
    {
     "ename": "SyntaxError",
     "evalue": "invalid syntax (3329855375.py, line 1)",
     "output_type": "error",
     "traceback": [
      "\u001b[1;36m  Cell \u001b[1;32mIn[2], line 1\u001b[1;36m\u001b[0m\n\u001b[1;33m    for loop:\u001b[0m\n\u001b[1;37m            ^\u001b[0m\n\u001b[1;31mSyntaxError\u001b[0m\u001b[1;31m:\u001b[0m invalid syntax\n"
     ]
    }
   ],
   "source": [
    "for loop:\n",
    "    syntax:\n",
    "        for variable in range(end):\n",
    "            body"
   ]
  },
  {
   "cell_type": "code",
   "execution_count": 1,
   "id": "031392fa",
   "metadata": {},
   "outputs": [
    {
     "name": "stdout",
     "output_type": "stream",
     "text": [
      "0\n",
      "1\n",
      "2\n",
      "3\n",
      "4\n"
     ]
    }
   ],
   "source": [
    "for i in range(5):\n",
    "    print(i)"
   ]
  },
  {
   "cell_type": "code",
   "execution_count": 2,
   "id": "c63eea31",
   "metadata": {},
   "outputs": [
    {
     "name": "stdout",
     "output_type": "stream",
     "text": [
      "1\n",
      "2\n",
      "3\n",
      "4\n",
      "5\n",
      "6\n",
      "7\n",
      "8\n",
      "9\n"
     ]
    }
   ],
   "source": [
    "for i in range(1,10):\n",
    "    print(i)"
   ]
  },
  {
   "cell_type": "code",
   "execution_count": 3,
   "id": "af15ca9b",
   "metadata": {},
   "outputs": [
    {
     "name": "stdout",
     "output_type": "stream",
     "text": [
      "11\n",
      "12\n",
      "13\n",
      "14\n",
      "15\n",
      "16\n",
      "17\n",
      "18\n",
      "19\n"
     ]
    }
   ],
   "source": [
    "for i in range(11,20):\n",
    "    print(i)"
   ]
  },
  {
   "cell_type": "code",
   "execution_count": 7,
   "id": "cb6fc35f",
   "metadata": {},
   "outputs": [
    {
     "name": "stdout",
     "output_type": "stream",
     "text": [
      "1\n",
      "3\n",
      "5\n",
      "7\n",
      "9\n",
      "11\n",
      "13\n",
      "15\n",
      "17\n",
      "19\n",
      "hello\n"
     ]
    }
   ],
   "source": [
    "for i in range(1,20,2):\n",
    "    print(i)\n",
    "print(\"hello\")"
   ]
  },
  {
   "cell_type": "code",
   "execution_count": 5,
   "id": "b2a229d1",
   "metadata": {},
   "outputs": [
    {
     "name": "stdout",
     "output_type": "stream",
     "text": [
      "20\n",
      "19\n",
      "18\n",
      "17\n",
      "16\n",
      "15\n",
      "14\n",
      "13\n",
      "12\n",
      "11\n",
      "10\n",
      "9\n",
      "8\n",
      "7\n",
      "6\n",
      "5\n",
      "4\n",
      "3\n",
      "2\n"
     ]
    }
   ],
   "source": [
    "for i in range(20,1,-1):\n",
    "    print(i)"
   ]
  },
  {
   "cell_type": "code",
   "execution_count": null,
   "id": "a492fa05",
   "metadata": {},
   "outputs": [],
   "source": [
    "if condition:\n",
    "    if condition:\n",
    "        body"
   ]
  },
  {
   "cell_type": "code",
   "execution_count": 11,
   "id": "bee42f79",
   "metadata": {},
   "outputs": [
    {
     "name": "stdout",
     "output_type": "stream",
     "text": [
      "24\n"
     ]
    }
   ],
   "source": [
    "a=24\n",
    "if a>10:\n",
    "    print(a)\n",
    "else:\n",
    "    print(\"good by\")"
   ]
  },
  {
   "cell_type": "code",
   "execution_count": 14,
   "id": "5c4de92d",
   "metadata": {},
   "outputs": [],
   "source": [
    "#10) Write a program to check if a number is Odd or even. Take input From user.\n",
    "a=55\n",
    "if a%2==0:\n",
    "    print(\"even\")"
   ]
  },
  {
   "cell_type": "code",
   "execution_count": 16,
   "id": "9582d995",
   "metadata": {},
   "outputs": [
    {
     "name": "stdout",
     "output_type": "stream",
     "text": [
      "*****\n",
      "*****\n",
      "*****\n",
      "*****\n",
      "*****\n"
     ]
    }
   ],
   "source": [
    "for i in range(5):\n",
    "    print(\"*\"*5)"
   ]
  }
 ],
 "metadata": {
  "kernelspec": {
   "display_name": "Python 3 (ipykernel)",
   "language": "python",
   "name": "python3"
  },
  "language_info": {
   "codemirror_mode": {
    "name": "ipython",
    "version": 3
   },
   "file_extension": ".py",
   "mimetype": "text/x-python",
   "name": "python",
   "nbconvert_exporter": "python",
   "pygments_lexer": "ipython3",
   "version": "3.11.3"
  }
 },
 "nbformat": 4,
 "nbformat_minor": 5
}
