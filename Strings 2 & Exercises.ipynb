{
 "cells": [
  {
   "cell_type": "code",
   "execution_count": 47,
   "id": "f5d56413",
   "metadata": {},
   "outputs": [
    {
     "name": "stdout",
     "output_type": "stream",
     "text": [
      "Enter A Word:565\n",
      "The Word is a palindrome:- 565\n"
     ]
    }
   ],
   "source": [
    "#86) Write a program that asks the user to enter a word and determines whether the word is a palindrome or not. A palindrome is a word that reads the same backwards as forwards.\n",
    "\n",
    "s=input(\"Enter A Word:\")  \n",
    "if(s==s[::-1]):  \n",
    "      print(\"The Word is a palindrome:-\",s)  \n",
    "else:  \n",
    "      print(\"The Word is not a palindrome\")  "
   ]
  },
  {
   "cell_type": "code",
   "execution_count": 46,
   "id": "a93a5883",
   "metadata": {},
   "outputs": [],
   "source": [
    "#87) At a certain school, student email addresses end with @student.college.edu, while professor email addresses end with @prof.college.edu. Write a program that first asks the user how many email addresses they will be entering, and then has the user enter those addresses. After all the email addresses are entered, the program should print out a message indicating either that all the addresses are student addresses or that there were some professor addresses entered.\n",
    "\n"
   ]
  },
  {
   "cell_type": "code",
   "execution_count": 26,
   "id": "b5fd2efc",
   "metadata": {},
   "outputs": [
    {
     "name": "stdout",
     "output_type": "stream",
     "text": [
      "Enter Word:-HEY\n",
      "H\n",
      "E\n",
      "Y\n"
     ]
    }
   ],
   "source": [
    "#88) Write a program that asks the user to enter a string, then prints out each letter of the string doubled and on a separate line. For instance, if the user entered HEY, the output would be\n",
    "\n",
    "a=input(\"Enter Word:-\")\n",
    "for b in range(len(a)):\n",
    "    print(a[b])  "
   ]
  },
  {
   "cell_type": "code",
   "execution_count": 33,
   "id": "d278ba08",
   "metadata": {},
   "outputs": [
    {
     "name": "stdout",
     "output_type": "stream",
     "text": [
      "ab\n",
      "abcing\n",
      "stringly\n"
     ]
    }
   ],
   "source": [
    "#89) Write a Python program to add 'ing' at the end of a given string (length should be at least 3). If the given string already ends with 'ing' then add 'ly' instead. If the string length of the given string is less than 3, leave it unchanged.\n",
    "def s(s1):\n",
    "  l=len(s1)\n",
    "\n",
    "  if l > 2:\n",
    "    if s1[-3:] == 'ing':\n",
    "      s1 += 'ly'\n",
    "    else:\n",
    "      s1 += 'ing'\n",
    "\n",
    "  return s1\n",
    "print(s('ab'))\n",
    "print(s('abc'))\n",
    "print(s('string'))\n"
   ]
  },
  {
   "cell_type": "code",
   "execution_count": null,
   "id": "c18d47f3",
   "metadata": {},
   "outputs": [],
   "source": [
    "# 90 TO 101 - Pending"
   ]
  },
  {
   "cell_type": "code",
   "execution_count": null,
   "id": "0661f0fd",
   "metadata": {},
   "outputs": [],
   "source": [
    "List is a mutuable(changeable)"
   ]
  },
  {
   "cell_type": "code",
   "execution_count": 36,
   "id": "c9126561",
   "metadata": {},
   "outputs": [
    {
     "name": "stdout",
     "output_type": "stream",
     "text": [
      "['Nidhi', 5, 7, 'DJDJ']\n",
      "5\n",
      "['Nidhi', 10, 7, 'DJDJ']\n"
     ]
    }
   ],
   "source": [
    "l=[\"Nidhi\",5,7,\"DJDJ\"]\n",
    "print(l)\n",
    "print(l[1])\n",
    "l[1]=10\n",
    "print(l)"
   ]
  },
  {
   "cell_type": "code",
   "execution_count": 39,
   "id": "1ce357be",
   "metadata": {},
   "outputs": [
    {
     "name": "stdout",
     "output_type": "stream",
     "text": [
      "3\n",
      "Enter StringN4\n",
      "['N1', 'N2', 'N3', 'N4']\n"
     ]
    }
   ],
   "source": [
    "l=[\"N1\",\"N2\",\"N3\"]\n",
    "len1=len(l)\n",
    "print(len1)\n",
    "x=input(\"Enter String\")\n",
    "l.append(x)\n",
    "print(l)"
   ]
  },
  {
   "cell_type": "code",
   "execution_count": 40,
   "id": "ab60efd7",
   "metadata": {},
   "outputs": [
    {
     "name": "stdout",
     "output_type": "stream",
     "text": [
      "Enter1\n",
      "Enter2\n",
      "Enter3\n",
      "Enter4\n",
      "Enter5\n",
      "['1', '2', '3', '4', '5']\n"
     ]
    }
   ],
   "source": [
    "l=[]\n",
    "for i in range(5):\n",
    "    x=input(\"Enter\")\n",
    "    l.append(x)\n",
    "print(l)"
   ]
  },
  {
   "cell_type": "code",
   "execution_count": 41,
   "id": "a92713bb",
   "metadata": {},
   "outputs": [
    {
     "name": "stdout",
     "output_type": "stream",
     "text": [
      "Available\n"
     ]
    }
   ],
   "source": [
    "l=[\"dFD\",\"DFD\",\"ssd\",\"uni\"]\n",
    "if \"dFD\" in l:\n",
    "    print(\"Available\")\n",
    "else:\n",
    "    print(\"Not Available\")"
   ]
  },
  {
   "cell_type": "code",
   "execution_count": 43,
   "id": "25aebdf5",
   "metadata": {},
   "outputs": [
    {
     "name": "stdout",
     "output_type": "stream",
     "text": [
      "Enter:-SSD\n",
      "Not Available\n"
     ]
    }
   ],
   "source": [
    "l=[\"dFD\",\"DFD\",\"ssd\",\"uni\"]\n",
    "if input(\"Enter:-\") in l:\n",
    "    print(\"Available\")\n",
    "else:\n",
    "    print(\"Not Available\")"
   ]
  },
  {
   "cell_type": "code",
   "execution_count": 44,
   "id": "69c6045c",
   "metadata": {},
   "outputs": [
    {
     "name": "stdout",
     "output_type": "stream",
     "text": [
      "22\n",
      "5\n",
      "2\n",
      "8\n"
     ]
    }
   ],
   "source": [
    "l=[8,5,4,3,2]\n",
    "x=sum(l)\n",
    "x1=len(l)\n",
    "x2=min(l)\n",
    "x3=max(l)\n",
    "print(x)\n",
    "print(x1)\n",
    "print(x2)\n",
    "print(x3)"
   ]
  },
  {
   "cell_type": "code",
   "execution_count": 49,
   "id": "d20d96d1",
   "metadata": {},
   "outputs": [
    {
     "name": "stdout",
     "output_type": "stream",
     "text": [
      "3\n",
      "1\n"
     ]
    }
   ],
   "source": [
    "l=[1,5,6,7,3,5,5]\n",
    "x=l.count(5)\n",
    "print(x)\n",
    "x1=l.index(5)\n",
    "print(x1)"
   ]
  },
  {
   "cell_type": "code",
   "execution_count": 50,
   "id": "24a265de",
   "metadata": {},
   "outputs": [
    {
     "name": "stdout",
     "output_type": "stream",
     "text": [
      "[2, 1, 4, 7, 8]\n",
      "[1, 2, 4, 7, 8]\n"
     ]
    }
   ],
   "source": [
    "l=[8,7,4,1,2]\n",
    "l.reverse()\n",
    "print(l)\n",
    "l.sort()\n",
    "print(l)"
   ]
  },
  {
   "cell_type": "code",
   "execution_count": 51,
   "id": "227a7f5c",
   "metadata": {},
   "outputs": [
    {
     "name": "stdout",
     "output_type": "stream",
     "text": [
      "[7, 5, 11, 4, 3, 2, 3]\n"
     ]
    }
   ],
   "source": [
    "l=[7,5,4,3,2,3]\n",
    "l.insert(2,11)\n",
    "print(l)"
   ]
  },
  {
   "cell_type": "code",
   "execution_count": 76,
   "id": "1ce1d03a",
   "metadata": {},
   "outputs": [
    {
     "name": "stdout",
     "output_type": "stream",
     "text": [
      "List:- [1, 2, 3, 4, 5]\n",
      "No of Item:- 5\n"
     ]
    }
   ],
   "source": [
    "#109) (a) Print the total number of items in the list.\n",
    "l=[1,2,3,4,5]\n",
    "len1=len(l)\n",
    "print(\"List:-\",l)\n",
    "print(\"No of Item:-\", len1)"
   ]
  },
  {
   "cell_type": "code",
   "execution_count": 99,
   "id": "ee480c9f",
   "metadata": {},
   "outputs": [
    {
     "name": "stdout",
     "output_type": "stream",
     "text": [
      "List:- [1, 2, 3, 4, 5]\n",
      "[5]\n"
     ]
    }
   ],
   "source": [
    "#109) (b) Print the last item in the list.\n",
    "\n",
    "l=[1,2,3,4,5]\n",
    "len1=len(l)\n",
    "print(\"List:-\",l)\n",
    "print(l[-1:])"
   ]
  },
  {
   "cell_type": "code",
   "execution_count": 111,
   "id": "a2cb7a7e",
   "metadata": {},
   "outputs": [
    {
     "name": "stdout",
     "output_type": "stream",
     "text": [
      "Enter1\n",
      "Enter2\n",
      "Enter3\n",
      "Enter4\n",
      "Enter5\n",
      "['1', '2', '3', '4', '5']\n",
      "['5', '4', '3', '2', '1']\n"
     ]
    }
   ],
   "source": [
    "#109) (c) Print the list in reverse order.\n",
    "\n",
    "l=[]\n",
    "for i in range(5):\n",
    "    x=input(\"Enter\")\n",
    "    l.append(x)\n",
    "print(l)\n",
    "l.reverse()\n",
    "print(l)"
   ]
  },
  {
   "cell_type": "code",
   "execution_count": 112,
   "id": "324a71ff",
   "metadata": {},
   "outputs": [
    {
     "name": "stdout",
     "output_type": "stream",
     "text": [
      "Enter:-5\n",
      "Available In List\n"
     ]
    }
   ],
   "source": [
    "#109) (d) Print Yes if the list contains a 5 and No otherwise.\n",
    "\n",
    "l=[\"1\",\"2\",\"3\",\"4\",\"5\",\"6\",\"7\",\"8\",\"9\",\"10\"]\n",
    "if input(\"Enter:-\") in l:\n",
    "    print(\"Available In List\")\n",
    "else:\n",
    "    print(\"Not Available In List\")"
   ]
  },
  {
   "cell_type": "code",
   "execution_count": 119,
   "id": "bba9c9eb",
   "metadata": {},
   "outputs": [
    {
     "name": "stdout",
     "output_type": "stream",
     "text": [
      "List:- [1, 2, 3, 4, 5, 6, 7, 8, 9, 10]\n",
      "The Nimber Of Fives In The List:- 4\n"
     ]
    }
   ],
   "source": [
    "#109) (e) Print the number of fives in the list.\n",
    "\n",
    "l=[1,2,3,4,5,6,7,8,9,10]\n",
    "x=l.index(5)\n",
    "print(\"List:-\",l)\n",
    "print(\"The Number Of Fives In The List:-\",x)"
   ]
  },
  {
   "cell_type": "code",
   "execution_count": 134,
   "id": "bf2a6a05",
   "metadata": {},
   "outputs": [
    {
     "name": "stdout",
     "output_type": "stream",
     "text": [
      "Orignal Value:- [10, 8, 5, 9, 6, 4, 2, 1, 3, 7]\n",
      "Sort The Orignal Value:- [1, 2, 3, 4, 5, 6, 7, 8, 9, 10]\n",
      "Remove The First And Last Value:- [2, 3, 4, 5, 6, 7, 8, 9]\n"
     ]
    }
   ],
   "source": [
    "#109) (f) Remove the first and last items from the list, sort the remaining items, and print the result.\n",
    "\n",
    "l=[10,8,5,9,6,4,2,1,3,7]\n",
    "print(\"Orignal Value:-\",l)\n",
    "l.sort()\n",
    "print(\"Sort The Orignal Value:-\",l)\n",
    "print(\"Remove The First And Last Value:-\",l[1:-1])\n"
   ]
  },
  {
   "cell_type": "code",
   "execution_count": 103,
   "id": "74d27de9",
   "metadata": {},
   "outputs": [
    {
     "name": "stdout",
     "output_type": "stream",
     "text": [
      "List of 10 random numbers:- [20, 21, 22, 47, 55, 61, 62, 72, 82, 100]\n",
      "Average:- [54.2]\n",
      "Largest:- [100] Smallest:- [20]\n",
      "Second Largest:- [82] Second Smallest:- [21]\n",
      "Even numbers in the list:- [6]\n",
      "Odd numbers in the list:- [4]\n"
     ]
    }
   ],
   "source": [
    "#110 Write a program that generates a list of 10 random numbers between 1 and 100.\n",
    "l=[]\n",
    "from random import randint\n",
    "for i in range(10):\n",
    "    x=randint(1,100)\n",
    "    l.append(x)\n",
    "    l.sort()\n",
    "    x=sum(l)/10\n",
    "    x1=max(l)\n",
    "    x2=min(l)\n",
    "x3=l[-2]\n",
    "x4=l[1]\n",
    "even, odd = 0, 0\n",
    "for e in l:\n",
    "    if e % 2 == 0:\n",
    "        even += 1\n",
    "    else:\n",
    "        odd += 1\n",
    "#(a) Print the list.\n",
    "print(\"List of 10 random numbers:-\",l)\n",
    "#(b) Print the average of the elements in the list.\n",
    "print(\"Average:-\",[x])\n",
    "#(c) Print the largest and smallest values in the list.\n",
    "print(\"Largest:-\",[x1], \"Smallest:-\",[x2])\n",
    "#(d) Print the second largest and second smallest entries in the list\n",
    "print(\"Second Largest:-\",[x3], \"Second Smallest:-\",[x4])\n",
    "#(e) Print how many even numbers are in the list.\n",
    "print(\"Even numbers in the list:-\", [even])\n",
    "print(\"Odd numbers in the list:-\", [odd])"
   ]
  },
  {
   "cell_type": "code",
   "execution_count": 21,
   "id": "f7858c9d",
   "metadata": {},
   "outputs": [
    {
     "name": "stdout",
     "output_type": "stream",
     "text": [
      "[4, 5, 6, 25, 10, 17, 4, 5, 6, 10, 17]\n"
     ]
    }
   ],
   "source": [
    "#111) Start with the list [8,9,10]. Do the following:\n",
    "l=[8,9,10]\n",
    "#(a) Set the second entry (index 1) to 1\n",
    "l[1]=17\n",
    "#(b) Add 4, 5, and 6 to the end of the list\n",
    "l.extend([4,5,6])\n",
    "#(c) Remove the first entry from the list\n",
    "l.pop(0)\n",
    "#(d) Sort the list\n",
    "l.sort()\n",
    "#(e) Double the list\n",
    "l=l*2\n",
    "#(f) Insert 25 at index 3\n",
    "l.insert(3,25)\n",
    "print(l)"
   ]
  }
 ],
 "metadata": {
  "kernelspec": {
   "display_name": "Python 3 (ipykernel)",
   "language": "python",
   "name": "python3"
  },
  "language_info": {
   "codemirror_mode": {
    "name": "ipython",
    "version": 3
   },
   "file_extension": ".py",
   "mimetype": "text/x-python",
   "name": "python",
   "nbconvert_exporter": "python",
   "pygments_lexer": "ipython3",
   "version": "3.11.3"
  }
 },
 "nbformat": 4,
 "nbformat_minor": 5
}
