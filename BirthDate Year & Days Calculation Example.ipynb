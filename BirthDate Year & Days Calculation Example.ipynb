{
 "cells": [
  {
   "cell_type": "code",
   "execution_count": 5,
   "id": "569a91dd",
   "metadata": {},
   "outputs": [
    {
     "name": "stdout",
     "output_type": "stream",
     "text": [
      "Enter Your Born Year:- 1995\n",
      "Enter Your Born Month:- 8\n",
      "Enter Your Born Day:- 16\n",
      "Your Age Is:-  28 Year\n",
      "Your Age Is:-  28 Year 196 Days\n",
      "Total Days:- ( 10416 Days )\n",
      "10475\n"
     ]
    }
   ],
   "source": [
    "import datetime\n",
    "today = datetime.date.today()\n",
    "birthday = datetime.date(1995,2,1)\n",
    "now = datetime.date.today()\n",
    "delta = now - birthday\n",
    "currntyear = today.year\n",
    "def age_cal(currntyear,bornyear):\n",
    "    ans= currntyear - bornyear\n",
    "    ans1= delta.days-ans*365\n",
    "    ans2=ans*365\n",
    "    ans3=c*30\n",
    "    ans4=d-1\n",
    "    ans5=ans2+ans3+ans4\n",
    "    print(\"Your Age Is:- \",ans,\"Year\")\n",
    "    #print(\"Your Age In Day:- \",ans1,\"Days\")\n",
    "    print(\"Your Age Is:- \",ans,\"Year\",ans1,\"Days\")\n",
    "    print(\"Total Days:- (\",delta.days,\"Days )\")\n",
    "    print(ans5)\n",
    "a=currntyear\n",
    "b=eval(input(\"Enter Your Born Year:- \"))\n",
    "c=eval(input(\"Enter Your Born Month:- \"))\n",
    "d=eval(input(\"Enter Your Born Day:- \"))\n",
    "#print(b,c,d)\n",
    "age_cal(a,b) "
   ]
  },
  {
   "cell_type": "code",
   "execution_count": 9,
   "id": "bac27cbb",
   "metadata": {},
   "outputs": [
    {
     "name": "stdout",
     "output_type": "stream",
     "text": [
      "Enter Your Born Year:- 1995\n",
      "Enter Your Born Month:- 2\n",
      "Enter Your Born Day:- 1\n",
      "Your Age Is:-  28 Year 60 Days\n"
     ]
    }
   ],
   "source": [
    "import datetime\n",
    "today = datetime.date.today()\n",
    "birthday = datetime.date(1995,2,1)\n",
    "now = datetime.date.today()\n",
    "delta = now - birthday\n",
    "currntyear = today.year\n",
    "def age_cal(currntyear,bornyear):\n",
    "    ans= currntyear - bornyear\n",
    "    #ans1= delta.days-ans*365\n",
    "    ans2=ans*365\n",
    "    ans3=c*30\n",
    "    ans4=d-1\n",
    "    ans5=ans2+ans3+ans4\n",
    "    ans6=ans3+ans4\n",
    "    #print(\"Your Age Is:- \",ans,\"Year\")\n",
    "    #print(\"Your Age In Day:- \",ans1,\"Days\")\n",
    "    print(\"Your Age Is:- \",ans,\"Year\",ans6,\"Days\")\n",
    "    #print(\"Total Days:- (\",delta.days,\"Days )\")\n",
    "    #print(ans5)\n",
    "a=currntyear\n",
    "b=eval(input(\"Enter Your Born Year:- \"))\n",
    "c=eval(input(\"Enter Your Born Month:- \"))\n",
    "d=eval(input(\"Enter Your Born Day:- \"))\n",
    "#print(b,c,d)\n",
    "age_cal(a,b) "
   ]
  },
  {
   "cell_type": "code",
   "execution_count": null,
   "id": "ff28026b",
   "metadata": {},
   "outputs": [],
   "source": []
  }
 ],
 "metadata": {
  "kernelspec": {
   "display_name": "Python 3 (ipykernel)",
   "language": "python",
   "name": "python3"
  },
  "language_info": {
   "codemirror_mode": {
    "name": "ipython",
    "version": 3
   },
   "file_extension": ".py",
   "mimetype": "text/x-python",
   "name": "python",
   "nbconvert_exporter": "python",
   "pygments_lexer": "ipython3",
   "version": "3.11.3"
  }
 },
 "nbformat": 4,
 "nbformat_minor": 5
}
