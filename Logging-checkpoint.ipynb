{
 "cells": [
  {
   "cell_type": "code",
   "execution_count": null,
   "id": "d3667c4c",
   "metadata": {},
   "outputs": [],
   "source": [
    "import logging"
   ]
  },
  {
   "cell_type": "code",
   "execution_count": 5,
   "id": "db5124d1",
   "metadata": {},
   "outputs": [],
   "source": [
    "logging.basicConfig(filename = \"Test.log\", level = logging.INFO)"
   ]
  },
  {
   "cell_type": "code",
   "execution_count": 6,
   "id": "35028dde",
   "metadata": {},
   "outputs": [],
   "source": [
    "logging.info(\"This is my info log\")\n",
    "logging.warning(\"This is my warning log\")\n",
    "logging.error(\"This is my error log\")"
   ]
  },
  {
   "cell_type": "code",
   "execution_count": 7,
   "id": "e0bb1788",
   "metadata": {},
   "outputs": [],
   "source": [
    "logging.shutdown()"
   ]
  },
  {
   "cell_type": "code",
   "execution_count": 8,
   "id": "88b8b28b",
   "metadata": {},
   "outputs": [
    {
     "data": {
      "text/plain": [
       "'C:\\\\Users\\\\Sony'"
      ]
     },
     "execution_count": 8,
     "metadata": {},
     "output_type": "execute_result"
    }
   ],
   "source": [
    "pwd()"
   ]
  },
  {
   "cell_type": "code",
   "execution_count": 1,
   "id": "3d8bd7db",
   "metadata": {},
   "outputs": [],
   "source": [
    "import logging\n",
    "logging.basicConfig(filename = \"test23.log\" , level = logging.DEBUG , format = '%(asctime)s %(levelname)s %(message)s')"
   ]
  },
  {
   "cell_type": "code",
   "execution_count": 2,
   "id": "135ce340",
   "metadata": {},
   "outputs": [],
   "source": [
    "import logging\n",
    "def divbyzero(a,b):\n",
    "    logging.info(\"This is a start of my code and i am try to enter %s and %s\",a,b)\n",
    "    try:\n",
    "        div = a/b\n",
    "        logging.info(\"Executed succ\")\n",
    "    except Exception as e:\n",
    "        logging.error(\"Error has happend \")\n",
    "        logging.exception(\"Exception occured \"+str(e))"
   ]
  },
  {
   "cell_type": "code",
   "execution_count": 3,
   "id": "19083713",
   "metadata": {},
   "outputs": [],
   "source": [
    "divbyzero(4,0)"
   ]
  },
  {
   "cell_type": "code",
   "execution_count": 8,
   "id": "632181e6",
   "metadata": {},
   "outputs": [],
   "source": [
    "logging.shutdown()"
   ]
  },
  {
   "cell_type": "code",
   "execution_count": 1,
   "id": "8af94857",
   "metadata": {},
   "outputs": [
    {
     "name": "stdout",
     "output_type": "stream",
     "text": [
      "60\n",
      "0\n"
     ]
    }
   ],
   "source": [
    "import logging\n",
    "logging.basicConfig(filename = \"BMI.log\",level = logging.DEBUG, format = '%(asctime)s %(levelname)s %(message)s')\n",
    "try:\n",
    "    weight = float(input())\n",
    "    height = float(input())\n",
    "    bmi = weight/(height**2)\n",
    "    print(bmi)\n",
    "except Exception as e:\n",
    "    logging.exception(\"Exception Occurred\")"
   ]
  },
  {
   "cell_type": "code",
   "execution_count": null,
   "id": "33f506db",
   "metadata": {},
   "outputs": [],
   "source": []
  }
 ],
 "metadata": {
  "kernelspec": {
   "display_name": "Python 3 (ipykernel)",
   "language": "python",
   "name": "python3"
  },
  "language_info": {
   "codemirror_mode": {
    "name": "ipython",
    "version": 3
   },
   "file_extension": ".py",
   "mimetype": "text/x-python",
   "name": "python",
   "nbconvert_exporter": "python",
   "pygments_lexer": "ipython3",
   "version": "3.11.3"
  }
 },
 "nbformat": 4,
 "nbformat_minor": 5
}
