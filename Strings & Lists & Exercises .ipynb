{
 "cells": [
  {
   "cell_type": "code",
   "execution_count": 16,
   "id": "0428e8a2",
   "metadata": {},
   "outputs": [
    {
     "name": "stdout",
     "output_type": "stream",
     "text": [
      "Enter List Containing Numbers Between 1 & 12:- [3,15,10,12]\n",
      "List After Removing Numbers Greater Than 10:- [3, 10, 10, 10]\n"
     ]
    }
   ],
   "source": [
    "#112) Ask the user to enter a list containing numbers between 1 and 12. Then replace all of the entries in the list that are greater than 10 with 10.\n",
    "l=eval(input(\"Enter List Containing Numbers Between 1 & 12:- \"))\n",
    "for i in range(len(l)):\n",
    "    if l[i]>10:\n",
    "        l[i]=10\n",
    "print(\"List After Removing Numbers Greater Than 10:-\",l)"
   ]
  },
  {
   "cell_type": "code",
   "execution_count": 17,
   "id": "3045269d",
   "metadata": {},
   "outputs": [
    {
     "name": "stdout",
     "output_type": "stream",
     "text": [
      "Enter a list of strings:- ['TIRTH', 'NIDHI', 'ANJALI']\n",
      "List after removing first characters:- ['IRTH', 'IDHI', 'NJALI']\n"
     ]
    }
   ],
   "source": [
    "#113) Ask the user to enter a list of strings. Create a new list that consists of those strings with their first characters removed.\n",
    "\n",
    "l=eval(input(\"Enter a list of strings:- \"))\n",
    "l1=[] \n",
    "for i in range(len(l)): \n",
    "    l1.append(l[i][1:]) \n",
    "print(\"List after removing first characters:-\",l1)"
   ]
  },
  {
   "cell_type": "code",
   "execution_count": 21,
   "id": "99adb06b",
   "metadata": {},
   "outputs": [
    {
     "name": "stdout",
     "output_type": "stream",
     "text": [
      "TIRTH\n"
     ]
    }
   ],
   "source": [
    "from random import choice\n",
    "l=[\"NIDHI\",\"TIRTH\",\"ANJALI\"]\n",
    "x=choice(l)\n",
    "print(x)"
   ]
  },
  {
   "cell_type": "code",
   "execution_count": 22,
   "id": "13c7fab0",
   "metadata": {},
   "outputs": [
    {
     "name": "stdout",
     "output_type": "stream",
     "text": [
      "['ANJALI', 'NIDHI']\n"
     ]
    }
   ],
   "source": [
    "from random import sample\n",
    "l=[\"NIDHI\",\"TIRTH\",\"ANJALI\"]\n",
    "x=sample(l,2)\n",
    "print(x)"
   ]
  },
  {
   "cell_type": "code",
   "execution_count": 24,
   "id": "5d5e77ac",
   "metadata": {},
   "outputs": [
    {
     "name": "stdout",
     "output_type": "stream",
     "text": [
      "['ANJALI', 'NIDHI', 'TIRTH']\n"
     ]
    }
   ],
   "source": [
    "from random import shuffle\n",
    "l=[\"NIDHI\",\"TIRTH\",\"ANJALI\"]\n",
    "shuffle(l)\n",
    "print(l)"
   ]
  },
  {
   "cell_type": "code",
   "execution_count": 38,
   "id": "d200c994",
   "metadata": {},
   "outputs": [
    {
     "name": "stdout",
     "output_type": "stream",
     "text": [
      "['d', 'd d', 'kfd fd', 'k kf', 'kisd sk', 'id']\n"
     ]
    }
   ],
   "source": [
    "s=\"djd djkfd fdjk kfjkisd skjid\"\n",
    "x=s.split('j')\n",
    "print(x)"
   ]
  },
  {
   "cell_type": "code",
   "execution_count": 51,
   "id": "4560c595",
   "metadata": {},
   "outputs": [
    {
     "name": "stdout",
     "output_type": "stream",
     "text": [
      "A B C\n",
      "ABC\n",
      "A, B, C\n",
      "A***B***C\n"
     ]
    }
   ],
   "source": [
    "l=['A','B','C']\n",
    "x=' '.join(l)\n",
    "x1=''.join(l)\n",
    "x2=', '.join(l)\n",
    "x3='***'.join(l)\n",
    "print(x)\n",
    "print(x1)\n",
    "print(x2)\n",
    "print(x3)"
   ]
  },
  {
   "cell_type": "code",
   "execution_count": 52,
   "id": "44cb422e",
   "metadata": {},
   "outputs": [
    {
     "name": "stdout",
     "output_type": "stream",
     "text": [
      "[0, 1, 2, 3, 4, 5, 6, 7, 8, 9]\n"
     ]
    }
   ],
   "source": [
    "l=[]\n",
    "for i in range (10):\n",
    "    l.append(i)\n",
    "print(l)"
   ]
  },
  {
   "cell_type": "code",
   "execution_count": 53,
   "id": "31e0742c",
   "metadata": {},
   "outputs": [
    {
     "name": "stdout",
     "output_type": "stream",
     "text": [
      "[0, 1, 2, 3, 4, 5, 6, 7, 8, 9]\n"
     ]
    }
   ],
   "source": [
    "l=[i for i in range (10)]\n",
    "print(l)"
   ]
  },
  {
   "cell_type": "code",
   "execution_count": 58,
   "id": "9c81275f",
   "metadata": {},
   "outputs": [
    {
     "name": "stdout",
     "output_type": "stream",
     "text": [
      "List with integers from 0 to 49: [0, 1, 2, 3, 4, 5, 6, 7, 8, 9, 10, 11, 12, 13, 14, 15, 16, 17, 18, 19, 20, 21, 22, 23, 24, 25, 26, 27, 28, 29, 30, 31, 32, 33, 34, 35, 36, 37, 38, 39, 40, 41, 42, 43, 44, 45, 46, 47, 48, 49]\n"
     ]
    }
   ],
   "source": [
    "#114) Create the following lists using a for loop.\n",
    "#(a) A list consisting of the integers 0 through 49\n",
    "l = [i for i in range(50)]\n",
    "print(\"List with integers from 0 to 49:\",l) "
   ]
  },
  {
   "cell_type": "code",
   "execution_count": 70,
   "id": "d569fe58",
   "metadata": {},
   "outputs": [
    {
     "name": "stdout",
     "output_type": "stream",
     "text": [
      "List with square of integers from 1 to 50:-\n",
      "[1, 4, 9, 16, 25, 36, 49, 64, 81, 100, 121, 144, 169, 196, 225, 256, 289, 324, 361, 400, 441, 484, 529, 576, 625, 676, 729, 784, 841, 900, 961, 1024, 1089, 1156, 1225, 1296, 1369, 1444, 1521, 1600, 1681, 1764, 1849, 1936, 2025, 2116, 2209, 2304, 2401, 2500]\n"
     ]
    }
   ],
   "source": [
    "#(b) A list containing the squares of the integers 1 through 50.\n",
    "l=[] \n",
    "for i in range(1, 51): \n",
    "    l.append(i * i) \n",
    "print(\"List with square of integers from 1 to 50:-\") \n",
    "print(l)"
   ]
  },
  {
   "cell_type": "code",
   "execution_count": 81,
   "id": "928cd7ed",
   "metadata": {},
   "outputs": [],
   "source": [
    "#(c) The list ['a','bb','ccc','dddd', ...] that ends with 26 copies of the letter z.\n"
   ]
  },
  {
   "cell_type": "code",
   "execution_count": null,
   "id": "55605aea",
   "metadata": {},
   "outputs": [],
   "source": [
    "#115) Write a program that takes any two lists L and M of the same size and adds their elements together to form a new list N whose elements are sums of the corresponding elements in L and M. For instance, if L=[3,1,4] and M=[1,5,9], then N should equal [4,6,13].\n",
    "\n",
    "l=[3,1,4]\n",
    "m=[4,6,13]\n",
    "for i in i"
   ]
  },
  {
   "cell_type": "code",
   "execution_count": 103,
   "id": "83fbb421",
   "metadata": {},
   "outputs": [
    {
     "name": "stdout",
     "output_type": "stream",
     "text": [
      "Orignal Word:- [1, 1, 2, 3, 4, 3, 0, 0]\n",
      "Removed Repeated Value:- [0, 1, 2, 3, 4]\n"
     ]
    }
   ],
   "source": [
    "#116) Write a program that removes any repeated items from a list so that each item appears at most once. For instance, the list [1,1,2,3,4,3,0,0] would become [1,2,3,4,0].\n",
    "l=[1,1,2,3,4,3,0,0]\n",
    "x=list(set(l))\n",
    "print(\"Orignal Word:-\",l)\n",
    "print(\"Removed Repeated Value:-\",list(set(l)))"
   ]
  },
  {
   "cell_type": "code",
   "execution_count": null,
   "id": "512a9500",
   "metadata": {},
   "outputs": [],
   "source": []
  }
 ],
 "metadata": {
  "kernelspec": {
   "display_name": "Python 3 (ipykernel)",
   "language": "python",
   "name": "python3"
  },
  "language_info": {
   "codemirror_mode": {
    "name": "ipython",
    "version": 3
   },
   "file_extension": ".py",
   "mimetype": "text/x-python",
   "name": "python",
   "nbconvert_exporter": "python",
   "pygments_lexer": "ipython3",
   "version": "3.11.3"
  }
 },
 "nbformat": 4,
 "nbformat_minor": 5
}
