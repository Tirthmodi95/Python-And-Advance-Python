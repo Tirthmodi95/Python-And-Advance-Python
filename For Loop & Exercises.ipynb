{
 "cells": [
  {
   "cell_type": "code",
   "execution_count": 13,
   "id": "971fa758",
   "metadata": {},
   "outputs": [
    {
     "name": "stdout",
     "output_type": "stream",
     "text": [
      "1 Hello\n",
      "2 Hello\n",
      "3 Hello\n",
      "4 Hello\n",
      "5 Hello\n",
      "6 Hello\n",
      "7 Hello\n",
      "8 Hello\n",
      "9 Hello\n",
      "10 Hello\n"
     ]
    }
   ],
   "source": [
    "#11) WAP to print hello 10 times using for Loop.\n",
    "for i in range(1,11):\n",
    "    print(i, \"Hello\")"
   ]
  },
  {
   "cell_type": "code",
   "execution_count": 14,
   "id": "ac975454",
   "metadata": {},
   "outputs": [
    {
     "name": "stdout",
     "output_type": "stream",
     "text": [
      "*******\n",
      "*******\n",
      "*******\n"
     ]
    }
   ],
   "source": [
    "#12) Write a Program to Display Following Pattern :\n",
    "for i in range(3):\n",
    "    print(\"*\"*7)"
   ]
  },
  {
   "cell_type": "code",
   "execution_count": 16,
   "id": "73ff9df3",
   "metadata": {},
   "outputs": [
    {
     "name": "stdout",
     "output_type": "stream",
     "text": [
      "Enter A Number: 1\n",
      "The Square Of Your Number Is 1\n",
      "Enter A Number: 2\n",
      "The Square Of Your Number Is 4\n",
      "Enter A Number: 3\n",
      "The Square Of Your Number Is 9\n",
      "The Loop Is Now Done.\n"
     ]
    }
   ],
   "source": [
    "#13) The program below asks the user for a number and prints its square, then asks for another number and prints its square, etc. It does this three times and then prints that the loop is done.\n",
    "for i in range(3):\n",
    "    num = eval(input('Enter A Number: '))\n",
    "    print('The Square Of Your Number Is', num*num)\n",
    "print('The Loop Is Now Done.')"
   ]
  },
  {
   "cell_type": "code",
   "execution_count": 17,
   "id": "76077f88",
   "metadata": {},
   "outputs": [
    {
     "name": "stdout",
     "output_type": "stream",
     "text": [
      "A\n",
      "B\n",
      "C\n",
      "D\n",
      "C\n",
      "D\n",
      "C\n",
      "D\n",
      "C\n",
      "D\n",
      "C\n",
      "D\n",
      "E\n"
     ]
    }
   ],
   "source": [
    "#14) Write a program to print A, then B, then it will alternate C’s and D’s five times and then finish with the letter E once.\n",
    "print('A')\n",
    "print('B')\n",
    "for i in range(5):\n",
    "    print('C')\n",
    "    print('D')\n",
    "print('E')"
   ]
  },
  {
   "cell_type": "code",
   "execution_count": 22,
   "id": "713a9bb4",
   "metadata": {},
   "outputs": [
    {
     "name": "stdout",
     "output_type": "stream",
     "text": [
      "5 4 3 2 1 Blast off!!!\n"
     ]
    }
   ],
   "source": [
    "#15) Write a Program to Print Output Like Below Using For loop. 5 4 3 2 1 Blast off!!!\n",
    "for i in range(5,0,-1):\n",
    "    print(i,end=\" \")\n",
    "print(\"Blast off!!!\")"
   ]
  },
  {
   "cell_type": "code",
   "execution_count": 25,
   "id": "a6824f3a",
   "metadata": {},
   "outputs": [
    {
     "name": "stdout",
     "output_type": "stream",
     "text": [
      "*\n",
      "**\n",
      "***\n",
      "****\n"
     ]
    }
   ],
   "source": [
    "#16) Write a Program to Display Following Pattern.\n",
    "for i in range(4):\n",
    "    print(\"*\"*(i+1))"
   ]
  },
  {
   "cell_type": "code",
   "execution_count": 1,
   "id": "2c8f1c6b",
   "metadata": {},
   "outputs": [
    {
     "name": "stdout",
     "output_type": "stream",
     "text": [
      "TIRTH\n",
      "TIRTH\n",
      "TIRTH\n",
      "TIRTH\n",
      "TIRTH\n",
      "TIRTH\n",
      "TIRTH\n",
      "TIRTH\n",
      "TIRTH\n",
      "TIRTH\n"
     ]
    }
   ],
   "source": [
    "#17) Write a program that prints your name 100 times.\n",
    "for i in range(10):\n",
    "    print(\"TIRTH\")"
   ]
  },
  {
   "cell_type": "code",
   "execution_count": 3,
   "id": "2c667907",
   "metadata": {},
   "outputs": [
    {
     "name": "stdout",
     "output_type": "stream",
     "text": [
      "1 TIRTH\n",
      "2 TIRTH\n",
      "3 TIRTH\n",
      "4 TIRTH\n",
      "5 TIRTH\n",
      "6 TIRTH\n",
      "7 TIRTH\n",
      "8 TIRTH\n",
      "9 TIRTH\n",
      "10 TIRTH\n"
     ]
    }
   ],
   "source": [
    "#18) Write a program that outputs 100 lines, numbered 1 to 100, each with your name on it. The output should look like the output below.\n",
    "for i in range(1,11,1):\n",
    "    print(i,\"TIRTH\")"
   ]
  },
  {
   "cell_type": "code",
   "execution_count": 33,
   "id": "675e8393",
   "metadata": {},
   "outputs": [
    {
     "name": "stdout",
     "output_type": "stream",
     "text": [
      "1---1\n",
      "2---4\n",
      "3---9\n",
      "4---16\n",
      "5---25\n",
      "6---36\n",
      "7---49\n",
      "8---64\n",
      "9---81\n",
      "10---100\n",
      "11---121\n",
      "12---144\n",
      "13---169\n",
      "14---196\n",
      "15---225\n",
      "16---256\n",
      "17---289\n",
      "18---324\n",
      "19---361\n",
      "20---400\n"
     ]
    }
   ],
   "source": [
    "#19) Write a program that prints out a list of the integers from 1to20 and their squares. The output should look like this:\n",
    "for i in range(1,21,1):\n",
    "    print(i,i*i,sep=(\"---\"))"
   ]
  },
  {
   "cell_type": "code",
   "execution_count": 39,
   "id": "a937e060",
   "metadata": {},
   "outputs": [
    {
     "name": "stdout",
     "output_type": "stream",
     "text": [
      "8 11 14 17 20 23 26 29 32 35 38 41 44 47 50 53 56 59 62 65 68 71 74 77 80 83 86 89 .\n"
     ]
    }
   ],
   "source": [
    "#20) Write a program that uses a for loop to print the numbers 8, 11, 14, 17, 20, ..., 83, 86, 89.\n",
    "for i in range(8,91,3):\n",
    "    print(i,end=(\" \")) \n",
    "print(\".\")"
   ]
  },
  {
   "cell_type": "code",
   "execution_count": 42,
   "id": "49318b79",
   "metadata": {},
   "outputs": [
    {
     "name": "stdout",
     "output_type": "stream",
     "text": [
      "100 98 96 94 92 90 88 86 84 82 80 78 76 74 72 70 68 66 64 62 60 58 56 54 52 50 48 46 44 42 40 38 36 34 32 30 28 26 24 22 20 18 16 14 12 10 8 6 4 2 .\n"
     ]
    }
   ],
   "source": [
    "#21) Write a program that uses a for loop to print the numbers 100, 98, 96, ..., 4, 2.\n",
    "for i in range(100,1,-2):\n",
    "    print(i,end=(\" \"))\n",
    "print(\".\")"
   ]
  },
  {
   "cell_type": "code",
   "execution_count": 46,
   "id": "308374e4",
   "metadata": {},
   "outputs": [
    {
     "name": "stdout",
     "output_type": "stream",
     "text": [
      "AAAAAAAAAABBBBBBBCDCDCDCDEFFFFFFG\n"
     ]
    }
   ],
   "source": [
    "#22) Write a program that uses exactly four for loops to print the sequence of letters below. AAAAAAAAAABBBBBBBCDCDCDCDEFFFFFFG\n",
    "print('A'*10,end=\"\")\n",
    "print('B'*7,end=\"\")\n",
    "for i in range(4):\n",
    "    print('CD',end=(\"\"))\n",
    "print('E',end=(\"\"))\n",
    "print('F'*6,end=\"\")\n",
    "print('G')"
   ]
  },
  {
   "cell_type": "code",
   "execution_count": 48,
   "id": "2018c6cc",
   "metadata": {},
   "outputs": [
    {
     "name": "stdout",
     "output_type": "stream",
     "text": [
      "enter number10\n",
      "tirth\n",
      "tirth\n",
      "tirth\n",
      "tirth\n",
      "tirth\n",
      "tirth\n",
      "tirth\n",
      "tirth\n",
      "tirth\n",
      "tirth\n"
     ]
    }
   ],
   "source": [
    "#23) Write a program that asks the user for their name and how many times to print it. The program should print out the user’s name the specified number of times.\n",
    "x=eval(input(\"enter number\"))\n",
    "for i in range(x):\n",
    "    print(\"tirth\")"
   ]
  },
  {
   "cell_type": "code",
   "execution_count": 52,
   "id": "22348e03",
   "metadata": {},
   "outputs": [
    {
     "name": "stdout",
     "output_type": "stream",
     "text": [
      "1 1 2 3 5 8 13 21 34 55 89 144 "
     ]
    }
   ],
   "source": [
    "#24) The Fibonacci numbers are the sequence below, where the first two numbers are 1, and each number thereafter is the sum of the two preceding numbers. Write a program that asks the user how many Fibonacci numbers to print and then prints that many.1,1,2,3,5,8,13,21,34,55,89...\n",
    "a=1\n",
    "b=1\n",
    "print(a,b,sep=\" \",end=\" \")\n",
    "for i in range(10):\n",
    "    ans=a+b\n",
    "    print(ans,end=\" \")\n",
    "    a=b\n",
    "    b=ans\n"
   ]
  },
  {
   "cell_type": "code",
   "execution_count": null,
   "id": "7823574f",
   "metadata": {},
   "outputs": [],
   "source": [
    "x=eval(input(\"enter number\"))\n",
    "a=1\n",
    "b=1\n",
    "for i in range(x):\n",
    "    print(a,b,sep=\" \",end=\" \")\n",
    "    ans=a+b\n",
    "    print(ans,end=\" \")\n",
    "    a=b\n",
    "    b=ans\n"
   ]
  },
  {
   "cell_type": "code",
   "execution_count": 11,
   "id": "8412309e",
   "metadata": {},
   "outputs": [
    {
     "name": "stdout",
     "output_type": "stream",
     "text": [
      "********************\n",
      "*                  *\n",
      "*                  *\n",
      "********************\n"
     ]
    }
   ],
   "source": [
    "#25) Use a for loop to print a box like the one below. Allow the user to specify how wide and how high the box should be.\n",
    "for i in range(1):\n",
    "    print(\"*\"*20,sep=\"\")\n",
    "    print(\"*\",\" \"*16,\"*\")\n",
    "    print(\"*\",\" \"*16,\"*\")\n",
    "    print(\"*\"*20)"
   ]
  },
  {
   "cell_type": "code",
   "execution_count": 17,
   "id": "db83a7e3",
   "metadata": {},
   "outputs": [
    {
     "name": "stdout",
     "output_type": "stream",
     "text": [
      "    *\n",
      "   ***\n",
      "  *****\n",
      " *******\n",
      "  *****\n",
      "   ***\n",
      "    *\n"
     ]
    }
   ],
   "source": [
    "#26) Use for loops to print a diamond like the one below. Allow the user to specify how high the diamond should be.\n",
    "for i in range(1):\n",
    "    print(\" \"*3,\"*\")\n",
    "    print(\" \"*2,\"***\")\n",
    "    print(\" \"*1,\"*****\")\n",
    "    print(\" \"*0,\"*******\")\n",
    "    print(\" \"*1,\"*****\")\n",
    "    print(\" \"*2,\"***\")\n",
    "    print(\" \"*3,\"*\")                    "
   ]
  }
 ],
 "metadata": {
  "kernelspec": {
   "display_name": "Python 3 (ipykernel)",
   "language": "python",
   "name": "python3"
  },
  "language_info": {
   "codemirror_mode": {
    "name": "ipython",
    "version": 3
   },
   "file_extension": ".py",
   "mimetype": "text/x-python",
   "name": "python",
   "nbconvert_exporter": "python",
   "pygments_lexer": "ipython3",
   "version": "3.11.3"
  }
 },
 "nbformat": 4,
 "nbformat_minor": 5
}
