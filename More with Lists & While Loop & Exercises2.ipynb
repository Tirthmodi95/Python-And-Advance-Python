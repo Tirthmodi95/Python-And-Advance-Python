{
 "cells": [
  {
   "cell_type": "code",
   "execution_count": 4,
   "id": "32bb5c07",
   "metadata": {},
   "outputs": [
    {
     "name": "stdout",
     "output_type": "stream",
     "text": [
      "Quotes :\n",
      "Be yourself; everyone else is already taken.\n"
     ]
    }
   ],
   "source": [
    "#122) Write a simple quote-of-the-day program. The program should contain a list of quotes, and when the user runs the program, a randomly selected quote should be printed.\n",
    "\n",
    "from random import randint\n",
    "for i in range(4):\n",
    "    quotes=[\"Be yourself; everyone else is already taken.\",\"I'm selfish, impatient and a little insecure. I make mistakes, I am out of control and at times hard to handle. But if you can't handle me at my worst, then you sure as hell don't deserve me at my best.\", \"A room without books is like a body without a soul.\",\"Be who you are and say what you feel, because those who mind don't matter, and those who matter don't mind.\"]\n",
    "print(\"Quotes\",\":\")\n",
    "l=len(quotes)\n",
    "l1=randint(0,l-1)\n",
    "print(quotes[l1])"
   ]
  },
  {
   "cell_type": "code",
   "execution_count": null,
   "id": "439f929c",
   "metadata": {},
   "outputs": [],
   "source": [
    "#123) Write a simple quiz game that has a list of ten questions and a list of answers to those questions. The game should give the player four randomly selected questions to answer. It should ask the questions one-by-one, and tell the player whether they got the question right or wrong. At the end it should print out how many out of four they got right.\n",
    "\n",
    "q=[\"What is the capital of the India?\",\"Who is the current prime minister of India?\",\"What is the capital of Gujarat?\",\"Bhupendra Patel is the Chief Minister of which State?\",\"where is the Red Fort in India?\",\"What is the Pink city of India?\"]\n",
    "ans=[\"Delhi\",\"Narendra Modi\",\"Gandhinagar\",\"Gujarat\",\"Delhi\",\"Jaipur\"]\n",
    "from random import randint\n",
    "right=0\n",
    "q1=randint(0,len(q))\n",
    "key = list(zip(q, ans))\n",
    "s=sample(key, 6)\n",
    "for i in s:\n",
    "    print(\"Question:- \",i[0])\n",
    "    ans1 = input(\"Give Your Answer:- \")\n",
    "    if ans1.lower()==i[1].lower():\n",
    "        print(\"Your Answer Is Correct!!!\")\n",
    "        right += 1\n",
    "    else:\n",
    "        print(\"**\",\"Sorry Your Answer Is Wrong\",\"**\")\n",
    "print(\"******************************\")\n",
    "print(\"**\",\"Quiz Game Result:- \",right,\"/6\",\"**\")\n",
    "print(\"******************************\")"
   ]
  },
  {
   "cell_type": "code",
   "execution_count": 28,
   "id": "3452b3fc",
   "metadata": {},
   "outputs": [
    {
     "name": "stdout",
     "output_type": "stream",
     "text": [
      "Oh shoot, I thought I had the dang problem figured out. **** it. Oh well, it was a heck of a freakin try.\n"
     ]
    }
   ],
   "source": [
    "#124) Write a censoring program. Allow the user To enter some text and your program should print out the text with all the curse words starred out. The number of stars should match the length of the curse word. For the purposes of this program, just use the“curse” words darn, dang, freakin, heck, and shoot. Sample output is below:\n",
    "#x=input(\"Enter Some Text:- \")\n",
    "x=\"Oh shoot, I thought I had the dang problem figured out. Darn it. Oh well, it was a heck of a freakin try.\"\n",
    "#a=\"Darn\",\"dang\",\"freakin\",\"heck\",\"shoot\"\n",
    "a=\"Darn\"\n",
    "x=x.replace(a,'*'*len(a))\n",
    "print(x)"
   ]
  },
  {
   "cell_type": "code",
   "execution_count": 11,
   "id": "e69a6aec",
   "metadata": {},
   "outputs": [
    {
     "name": "stdout",
     "output_type": "stream",
     "text": [
      "Enter a list of strings:- [\"TIRTH\",\"AARTI\",\"MANUSHI\",\"MUKESH\"]\n",
      "List after removing first characters:- ['IRTH', 'ARTI', 'ANUSHI', 'UKESH']\n"
     ]
    }
   ],
   "source": [
    "#124) Let L be a list of strings. Write list comprehensions that create new lists from L for each of the following.\n",
    "#(a) A list that consists of the strings of s with their first characters removed\n",
    "l=eval(input(\"Enter a list of strings:- \"))\n",
    "l1=[] \n",
    "for i in range(len(l)): \n",
    "    l1.append(l[i][1:]) \n",
    "print(\"List after removing first characters:-\",l1)"
   ]
  },
  {
   "cell_type": "code",
   "execution_count": 15,
   "id": "350d79c5",
   "metadata": {},
   "outputs": [
    {
     "name": "stdout",
     "output_type": "stream",
     "text": [
      "Enter a list of strings:- TIRTH MODI\n",
      "The lengths of the strings of s:-  10\n"
     ]
    }
   ],
   "source": [
    "#124) (b) A list of the lengths of the strings of s\n",
    "s=input(\"Enter a list of strings:- \")\n",
    "l=len(s)\n",
    "print(\"The lengths of the strings of s:- \",l)"
   ]
  },
  {
   "cell_type": "code",
   "execution_count": 21,
   "id": "ae90d890",
   "metadata": {},
   "outputs": [
    {
     "name": "stdout",
     "output_type": "stream",
     "text": [
      "Please type in a word: tirthmodi\n",
      "Please type in a character: t\n",
      "tir\n",
      "thm\n"
     ]
    }
   ],
   "source": [
    "#124) c) A list that consists of only those strings of s that are at least three characters long\n",
    "a=input(\"Please type in a word: \")\n",
    "c=input(\"Please type in a character: \") \n",
    "for x in range(0, len(a) - 2):\n",
    "    s=a[x:x + 3]\n",
    "    if s.startswith(c):\n",
    "        print(s)"
   ]
  },
  {
   "cell_type": "code",
   "execution_count": 66,
   "id": "3e667c8a",
   "metadata": {},
   "outputs": [
    {
     "name": "stdout",
     "output_type": "stream",
     "text": [
      "35\n"
     ]
    }
   ],
   "source": [
    "#125) Write a Program to Display sum of all number in List.\n",
    "l=[5,6,7,8,9]\n",
    "x=sum(l)\n",
    "print(x)"
   ]
  },
  {
   "cell_type": "code",
   "execution_count": 96,
   "id": "1a7624dd",
   "metadata": {},
   "outputs": [
    {
     "name": "stdout",
     "output_type": "stream",
     "text": [
      "2\n"
     ]
    }
   ],
   "source": [
    "#126) Write a Python program to count the number of strings where the string length is 2 or more and the first and last character are same from a given list of strings\n",
    "ls= ['abc', 'xyz', 'aba', '1221']\n",
    "l=0\n",
    "for x in ls:\n",
    "    if len(x) >= 2 and x[-1] == x[0]:\n",
    "        l += 1\n",
    "print(l)"
   ]
  },
  {
   "cell_type": "code",
   "execution_count": 103,
   "id": "b5d52b4a",
   "metadata": {},
   "outputs": [
    {
     "name": "stdout",
     "output_type": "stream",
     "text": [
      "['Green', 'White', 'Black']\n"
     ]
    }
   ],
   "source": [
    "#127) Write a Python program to print a specified list after removing the 0th, 4th and 5th elements.\n",
    "c=['Red', 'Green', 'White', 'Black', 'Pink', 'Yellow']\n",
    "c=[x for (i,x) in enumerate(c) if i not in (0,4,5)]\n",
    "print(c)"
   ]
  },
  {
   "cell_type": "code",
   "execution_count": 105,
   "id": "131e7913",
   "metadata": {},
   "outputs": [
    {
     "name": "stdout",
     "output_type": "stream",
     "text": [
      "['AARTI', 'TIRTH', 'BUNNY']\n"
     ]
    }
   ],
   "source": [
    "#128) Write a Python program to shuffle and print a specified list.\n",
    "from random import shuffle\n",
    "l=[\"TIRTH\",\"AARTI\",\"BUNNY\"]\n",
    "shuffle(l)\n",
    "print(l)"
   ]
  },
  {
   "cell_type": "code",
   "execution_count": 106,
   "id": "e13eb9cb",
   "metadata": {},
   "outputs": [
    {
     "name": "stdout",
     "output_type": "stream",
     "text": [
      "abcd\n"
     ]
    }
   ],
   "source": [
    "#129) Write a Python program to convert a list of characters into a string\n",
    "s=['a', 'b', 'c', 'd']\n",
    "x=''.join(s)\n",
    "print(x)"
   ]
  },
  {
   "cell_type": "code",
   "execution_count": 116,
   "id": "58291d29",
   "metadata": {},
   "outputs": [
    {
     "name": "stdout",
     "output_type": "stream",
     "text": [
      "Enter Stringe\n",
      "Enter Stringf\n",
      "Enter Stringg\n",
      "Enter Stringh\n",
      "Enter Stringi\n",
      "['a', 'b', 'c', 'd', 'e', 'f', 'g', 'h', 'i']\n"
     ]
    }
   ],
   "source": [
    "#130) Write a Python program to append a list to the second list.\n",
    "s=[\"a\", \"b\", \"c\", \"d\"]\n",
    "for i in range(5):\n",
    "    x=input(\"Enter String\")\n",
    "    s.append(x)\n",
    "print(s)"
   ]
  },
  {
   "cell_type": "code",
   "execution_count": null,
   "id": "593e86b8",
   "metadata": {},
   "outputs": [],
   "source": [
    "while condition:\n",
    "    body"
   ]
  },
  {
   "cell_type": "code",
   "execution_count": 117,
   "id": "8ad6d986",
   "metadata": {},
   "outputs": [
    {
     "name": "stdout",
     "output_type": "stream",
     "text": [
      "1\n",
      "2\n",
      "3\n",
      "4\n",
      "5\n",
      "6\n",
      "7\n",
      "8\n",
      "9\n",
      "10\n"
     ]
    }
   ],
   "source": [
    "i=1\n",
    "while i<=10:\n",
    "    print(i)\n",
    "    i=i+1"
   ]
  },
  {
   "cell_type": "code",
   "execution_count": 1,
   "id": "cb2393b7",
   "metadata": {},
   "outputs": [
    {
     "name": "stdout",
     "output_type": "stream",
     "text": [
      "2\n",
      "4\n",
      "6\n",
      "8\n",
      "10\n"
     ]
    }
   ],
   "source": [
    "i=1\n",
    "while i<=10:\n",
    "    if i%2==0:\n",
    "        print(i)\n",
    "    i=i+1"
   ]
  },
  {
   "cell_type": "code",
   "execution_count": 6,
   "id": "0602b0dd",
   "metadata": {},
   "outputs": [
    {
     "name": "stdout",
     "output_type": "stream",
     "text": [
      "1\n",
      "2\n",
      "3\n",
      "4\n"
     ]
    }
   ],
   "source": [
    "i=1\n",
    "while i<=10:\n",
    "    if i==5:\n",
    "        break\n",
    "    print(i)\n",
    "    i=i+1"
   ]
  },
  {
   "cell_type": "code",
   "execution_count": 7,
   "id": "d60b498b",
   "metadata": {},
   "outputs": [
    {
     "name": "stdout",
     "output_type": "stream",
     "text": [
      "1\n",
      "2\n",
      "3\n",
      "4\n",
      "5\n",
      "6\n",
      "7\n",
      "8\n",
      "9\n",
      "10\n",
      "Without Break Execute\n"
     ]
    }
   ],
   "source": [
    "i=1\n",
    "while i<=10:\n",
    "    if i==11:\n",
    "        break\n",
    "    print(i)\n",
    "    i=i+1\n",
    "else:\n",
    "    print(\"Without Break Execute\")"
   ]
  },
  {
   "cell_type": "code",
   "execution_count": 14,
   "id": "b88a894d",
   "metadata": {},
   "outputs": [
    {
     "name": "stdout",
     "output_type": "stream",
     "text": [
      "Enter Number11\n",
      "0\n",
      "1\n",
      "2\n",
      "3\n",
      "4\n"
     ]
    }
   ],
   "source": [
    "i=input(\"Enter Number:- \")\n",
    "i=0\n",
    "while i<=10:\n",
    "    if i==5:\n",
    "        break\n",
    "    print(i,\"Enter Number Is Grater Than 10\")\n",
    "    i=i+1\n",
    "else:\n",
    "    print(\"Without Break Execute\")"
   ]
  },
  {
   "cell_type": "code",
   "execution_count": 16,
   "id": "ca6c5f09",
   "metadata": {},
   "outputs": [
    {
     "name": "stdout",
     "output_type": "stream",
     "text": [
      "1505,1540,1575,1610,1645,1680,1715,1750,1785,1820,1855,1890,1925,1960,1995,2030,2065,2100,2135,2170,2205,2240,2275,2310,2345,2380,2415,2450,2485,2520,2555,2590,2625,2660,2695\n"
     ]
    }
   ],
   "source": [
    "#131) Write a Python program to find those numbers which are divisible by 7 and multiple of 5, between 1500 and 2700 (both included).\n",
    "l=[]\n",
    "for x in range(1500, 2701):\n",
    "    if (x%7==0) and (x%5==0):\n",
    "        l.append(str(x))\n",
    "print (','.join(l))"
   ]
  },
  {
   "cell_type": "code",
   "execution_count": null,
   "id": "a003cf9b",
   "metadata": {},
   "outputs": [],
   "source": []
  }
 ],
 "metadata": {
  "kernelspec": {
   "display_name": "Python 3 (ipykernel)",
   "language": "python",
   "name": "python3"
  },
  "language_info": {
   "codemirror_mode": {
    "name": "ipython",
    "version": 3
   },
   "file_extension": ".py",
   "mimetype": "text/x-python",
   "name": "python",
   "nbconvert_exporter": "python",
   "pygments_lexer": "ipython3",
   "version": "3.11.3"
  }
 },
 "nbformat": 4,
 "nbformat_minor": 5
}
