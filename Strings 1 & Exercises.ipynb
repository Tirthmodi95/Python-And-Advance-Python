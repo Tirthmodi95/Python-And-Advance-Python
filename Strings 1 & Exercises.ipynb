{
 "cells": [
  {
   "cell_type": "code",
   "execution_count": 9,
   "id": "d029a6c0",
   "metadata": {},
   "outputs": [
    {
     "name": "stdout",
     "output_type": "stream",
     "text": [
      "Enter Value:-tirthmodi\n",
      "9\n"
     ]
    }
   ],
   "source": [
    "#73) Write a Program to Enter String and Find the length of string.\n",
    "\n",
    "s=input(\"Enter Value:-\")\n",
    "l=len(s)\n",
    "print(l)"
   ]
  },
  {
   "cell_type": "code",
   "execution_count": 12,
   "id": "5246bf0c",
   "metadata": {},
   "outputs": [
    {
     "name": "stdout",
     "output_type": "stream",
     "text": [
      "Enter character:-100\n",
      "consonent\n"
     ]
    }
   ],
   "source": [
    "#74) Write a Program that repeatedly asks the user to enter a letter and builds up a string consisting of only the vowels that the user entered.\n",
    "\n",
    "x=input(\"Enter character:-\")\n",
    "if x in 'tirthmodi95':\n",
    "    print(\"vowel\")\n",
    "else:\n",
    "    print(\"consonent\")"
   ]
  },
  {
   "cell_type": "code",
   "execution_count": 20,
   "id": "81e123e1",
   "metadata": {},
   "outputs": [
    {
     "name": "stdout",
     "output_type": "stream",
     "text": [
      "enter Value:-aaaaaaaaa\n",
      "9\n"
     ]
    }
   ],
   "source": [
    "#75) Write a Program to entered string and check that string contain ‘a’ or not.if contain ‘a’ then display string contain a otherwise not contain a.\n",
    "\n",
    "x=input(\"enter Value:-\")\n",
    "print(x.count('a'))"
   ]
  },
  {
   "cell_type": "code",
   "execution_count": 24,
   "id": "0cf5363e",
   "metadata": {},
   "outputs": [
    {
     "name": "stdout",
     "output_type": "stream",
     "text": [
      "Enter Value:-tiaath\n",
      "2\n"
     ]
    }
   ],
   "source": [
    "#76) Write a program that asks the user for a string and prints out the location of each 'a' in the string. \n",
    "\n",
    "a=input(\"Enter Value:-\")\n",
    "y=a.index('a')\n",
    "print(y)"
   ]
  },
  {
   "cell_type": "code",
   "execution_count": 38,
   "id": "2802b8a5",
   "metadata": {},
   "outputs": [
    {
     "name": "stdout",
     "output_type": "stream",
     "text": [
      "Enter Value:-hello\n",
      "hheelllloo"
     ]
    }
   ],
   "source": [
    "#77) Write a program that asks the user for a string and creates a new string that doubles each character of the original string. For instance, if the user enters Hello, the output should be HHeelllloo.\n",
    "\n",
    "a=input(\"Enter Value:-\")\n",
    "for b in range(len(a)):\n",
    "    print(a[b]*2,end=\"\")"
   ]
  },
  {
   "cell_type": "code",
   "execution_count": 49,
   "id": "18c6540b",
   "metadata": {},
   "outputs": [
    {
     "name": "stdout",
     "output_type": "stream",
     "text": [
      "Enter Name:-tirth\n",
      "ttitirtirttirth"
     ]
    }
   ],
   "source": [
    "#78) Write a program that asks a user for their name and prints it in the following funny pattern:\n",
    "\n",
    "a=input(\"Enter Name:-\")\n",
    "for b in range(len(a)):\n",
    "    print(a[:b+1],end=\"\")"
   ]
  },
  {
   "cell_type": "code",
   "execution_count": 43,
   "id": "7e3949e9",
   "metadata": {},
   "outputs": [
    {
     "name": "stdout",
     "output_type": "stream",
     "text": [
      "Enter Decimal Number:-56.5656\n",
      "Your Decimal Number Is  5656\n"
     ]
    }
   ],
   "source": [
    "#79) Write a program that, given a string that contains a decimal number, prints out the decimal part of the number. For instance,if given 3.14159,the program should print out .14159.\n",
    "\n",
    "a=input(\"Enter Decimal Number:-\")\n",
    "print(\"Your Decimal Number Is \",a[a.index('.')+1:])"
   ]
  },
  {
   "cell_type": "code",
   "execution_count": 63,
   "id": "43b30e6d",
   "metadata": {},
   "outputs": [
    {
     "name": "stdout",
     "output_type": "stream",
     "text": [
      "Enter Value:-Tirth R Modi\n",
      "Number of words In string = 3\n"
     ]
    }
   ],
   "source": [
    "#81) A simple way to estimate the number of words in a string is to count the number of spaces in the string. Write a program that asks the user for a string and returns an estimate of how many words are in the string. \n",
    "\n",
    "a=input(\"Enter Value:-\")\n",
    "ans=0\n",
    "for b in a:\n",
    "    if b.isalpha() :\n",
    "        ans += 1\n",
    "print(\"Number of words In string =\",(count + 1))"
   ]
  },
  {
   "cell_type": "code",
   "execution_count": 106,
   "id": "71fe4bd4",
   "metadata": {},
   "outputs": [
    {
     "name": "stdout",
     "output_type": "stream",
     "text": [
      "enter formula((a+b)\n",
      "not same\n"
     ]
    }
   ],
   "source": [
    "#82) People often forget closing parentheses when entering formulas. Write a program that asks the user to enter a formula and prints out whether the formula has the same number of opening and closing parentheses.\n",
    "x=input(\"enter formula\")\n",
    "y=x.count('(')\n",
    "z=x.count(')')\n",
    "if y==z:\n",
    "    print(\"same number of paremetheses\")\n",
    "else:\n",
    "    print(\"not same\")\n"
   ]
  },
  {
   "cell_type": "code",
   "execution_count": 72,
   "id": "4cd2e6c9",
   "metadata": {},
   "outputs": [
    {
     "name": "stdout",
     "output_type": "stream",
     "text": [
      "Enter A Word:-tirth\n",
      "consonent\n"
     ]
    }
   ],
   "source": [
    "#83) Write a program that asks the user to enter a word and prints out whether that word contains any vowels. \n",
    "\n",
    "x=input(\"Enter A Word:-\")\n",
    "if x in 'aeiou':\n",
    "    print(\"vowel\")\n",
    "else:\n",
    "    print(\"consonent\")"
   ]
  },
  {
   "cell_type": "code",
   "execution_count": 114,
   "id": "7f363b0e",
   "metadata": {},
   "outputs": [
    {
     "name": "stdout",
     "output_type": "stream",
     "text": [
      "Enter Orignal Word:- TIRTH\n",
      "TI*TH!!!\n"
     ]
    }
   ],
   "source": [
    "#84) Write a program that asks the user to enter a string. The program should create a new string called new_string from the user’s string such that the second character is changed to an asterisk and three exclamation points are attached to the end of the string. Finally, print new_string. Typical output is shown below:\n",
    "\n",
    "x=input(\"Enter Orignal Word:- \")\n",
    "x=x.replace(x[2],'*')\n",
    "print(x+\"!!!\")"
   ]
  },
  {
   "cell_type": "code",
   "execution_count": 113,
   "id": "c5f19aaf",
   "metadata": {},
   "outputs": [
    {
     "name": "stdout",
     "output_type": "stream",
     "text": [
      "Enter Orignal Word In Uppercase:- TIRTH.?!//\n",
      "New Word In Lowercase:- tirth\n"
     ]
    }
   ],
   "source": [
    "#85) Write a program that asks the user to enter a string s and then converts s to lowercase, removes all the periods and commas from s, and prints the resulting string.\n",
    "\n",
    "s=input(\"Enter Orignal Word In Uppercase:- \")\n",
    "punc='''!()-[]{};:'\"\\,<>./?@#$%^&*_~'''\n",
    "for a in s:\n",
    "    if a in punc:\n",
    "        s=s.replace(a,\"\")\n",
    "s=s.lower()\n",
    "print(\"New Word In Lowercase:-\",s)"
   ]
  }
 ],
 "metadata": {
  "kernelspec": {
   "display_name": "Python 3 (ipykernel)",
   "language": "python",
   "name": "python3"
  },
  "language_info": {
   "codemirror_mode": {
    "name": "ipython",
    "version": 3
   },
   "file_extension": ".py",
   "mimetype": "text/x-python",
   "name": "python",
   "nbconvert_exporter": "python",
   "pygments_lexer": "ipython3",
   "version": "3.11.3"
  }
 },
 "nbformat": 4,
 "nbformat_minor": 5
}
