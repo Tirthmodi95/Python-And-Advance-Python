{
 "cells": [
  {
   "cell_type": "code",
   "execution_count": null,
   "id": "5fa692f1",
   "metadata": {},
   "outputs": [],
   "source": [
    "#44) Write a program that asks the user to enter a length in centimeters. If the user enters a negative length, the program should tell the user that the entry is invalid. Otherwise, the program should convert the length to inches and print out the result. There are 2.54 centimeters in an inch.\n"
   ]
  },
  {
   "cell_type": "code",
   "execution_count": 1,
   "id": "df54762b",
   "metadata": {},
   "outputs": [
    {
     "name": "stdout",
     "output_type": "stream",
     "text": [
      "Enter Temperature In Celsius:- 50\n",
      "The temperature is in the normal range.\n"
     ]
    }
   ],
   "source": [
    "#45) Ask the user to enter a temperature in Celsius. The program should print a message based on the temperature:\n",
    "\n",
    "t=eval(input(\"Enter Temperature In Celsius:- \"))\n",
    "if t<=-273:\n",
    "    print(\"The temperature is invalid because it is below absolute zero\")\n",
    "elif t==-273:\n",
    "    print(\"The temperature is absolute 0\")\n",
    "elif t>-273 and t<0:\n",
    "    print(\"The temperature is below freezing.\")\n",
    "elif t==0:\n",
    "    print(\"The temperature is at the freezing point.\")\n",
    "elif t>0 and t<100:\n",
    "    print(\"The temperature is in the normal range.\")\n",
    "elif t==100:\n",
    "    print(\"The temperature is at the boiling point.\")\n",
    "elif t>100:\n",
    "    print(\"The temperature is above the boiling point.\")"
   ]
  },
  {
   "cell_type": "code",
   "execution_count": 1,
   "id": "37eca3b2",
   "metadata": {},
   "outputs": [
    {
     "name": "stdout",
     "output_type": "stream",
     "text": [
      "Credit They Have Taken:-67\n",
      "The range for juniors\n"
     ]
    }
   ],
   "source": [
    "#46) Write a program that asks the user how many credits they have taken. If they have taken 23 or less, print that the student is a freshman. If they have taken between 24 and 53, print that they are a sophomore. The range for juniors is 54 to 83, and for seniors it is 84 and over.\n",
    "\n",
    "c=eval(input(\"Credit They Have Taken:-\"))\n",
    "if c<=23:\n",
    "    print(\"The student is a freshman.\")\n",
    "elif c>23 and c<=53:\n",
    "    print(\"They are a sophomore.\")\n",
    "elif c>=54 and c<=83:\n",
    "    print(\"The range for juniors\")\n",
    "elif c>=84:\n",
    "    print(\"For seniors\")\n",
    "else:\n",
    "    print(\"Over\")"
   ]
  },
  {
   "cell_type": "code",
   "execution_count": 5,
   "id": "89c5d2b7",
   "metadata": {},
   "outputs": [
    {
     "name": "stdout",
     "output_type": "stream",
     "text": [
      "Enter Random Number:-15\n",
      "whether they get it Not right\n"
     ]
    }
   ],
   "source": [
    "#47) Generate a random number between 1 and 10. Ask the user to guess the number and print a message based on whether they get it right or not.\n",
    "\n",
    "a=eval(input(\"Enter Random Number:-\"))\n",
    "if a>1 and a<=10:\n",
    "    print(\"whether they get it right\")\n",
    "else:\n",
    "    print(\"whether they get it Not right\")"
   ]
  },
  {
   "cell_type": "code",
   "execution_count": 17,
   "id": "bde45511",
   "metadata": {},
   "outputs": [
    {
     "name": "stdout",
     "output_type": "stream",
     "text": [
      "Enter Total Items:-110\n",
      "Total Cost:-  770 $\n"
     ]
    }
   ],
   "source": [
    "#48) A store charges $12 per item if you buy less than 10 items. If you buy between 10 and 99 items, the cost is $10 per item. If you buy 100 or more items, the cost is $7 per item. Write a program that asks the user how many items they are buying and prints the total cost. \n",
    "\n",
    "i=eval(input(\"Enter Total Items:-\"))\n",
    "if i<10:\n",
    "    ans=i*12\n",
    "    print(\"Total Cost:- \",ans,\"$\")\n",
    "elif i>=10 and i<=99:\n",
    "    ans1=i*10\n",
    "    print(\"Total Cost:- \",ans1,\"$\")\n",
    "elif i>=100:\n",
    "    ans2=i*7\n",
    "    print(\"Total Cost:- \",ans2,\"$\")\n",
    "else:\n",
    "    print(\"Thank You For Visit..\")"
   ]
  },
  {
   "cell_type": "code",
   "execution_count": 5,
   "id": "9f98313e",
   "metadata": {},
   "outputs": [],
   "source": [
    "#49) Write a program that asks the user for two numbers and prints Close if the numbers are within .001 of each other and Not close otherwise.\n",
    "\n"
   ]
  },
  {
   "cell_type": "code",
   "execution_count": 18,
   "id": "32a9b259",
   "metadata": {},
   "outputs": [
    {
     "name": "stdout",
     "output_type": "stream",
     "text": [
      "Question 1 : 15 * 3\n",
      "Enter Your Answer: 45\n",
      "Right\n",
      "Question 2 : 6 * 9\n",
      "Enter Your Answer: 54\n",
      "Right\n",
      "Question 3 : 13 * 6\n",
      "Enter Your Answer: 78\n",
      "Right\n",
      "Question 4 : 14 * 1\n",
      "Enter Your Answer: 14\n",
      "Right\n",
      "Question 5 : 6 * 7\n",
      "Enter Your Answer: 42\n",
      "Right\n",
      "Question 6 : 9 * 10\n",
      "Enter Your Answer: 90\n",
      "Right\n",
      "Question 7 : 13 * 8\n",
      "Enter Your Answer: 88\n",
      "Wrong Answer Right Answer Is  104\n",
      "Question 8 : 4 * 7\n",
      "Enter Your Answer: 28\n",
      "Right\n",
      "Question 9 : 10 * 2\n",
      "Enter Your Answer: 20\n",
      "Right\n",
      "Question 10 : 11 * 1\n",
      "Enter Your Answer: 11\n",
      "Right\n",
      "..Thank You For Play Multiplication Game..\n"
     ]
    }
   ],
   "source": [
    "#50) Write a multiplication game program for kids. The program should give the player ten randomly generated multiplication questions to do. After each, the program should tell them whether they got it right or wrong and what the correct answer is.\n",
    "\n",
    "from random import randint\n",
    "for i in range(10):\n",
    "    x=randint(1,15)\n",
    "    y=randint(1,10)\n",
    "    ans=x*y\n",
    "    print(\"Question\",i+1,\":\",x,\"*\",y)\n",
    "    ans1=eval(input(\"Enter Your Answer: \"))\n",
    "    if ans==ans1:\n",
    "        print(\"Right\")\n",
    "    else:\n",
    "        print(\"Wrong Answer\",\"Right Answer Is \",ans)\n",
    "print(\"..Thank You For Play Multiplication Game..\")"
   ]
  },
  {
   "cell_type": "code",
   "execution_count": 4,
   "id": "bce3f105",
   "metadata": {},
   "outputs": [
    {
     "name": "stdout",
     "output_type": "stream",
     "text": [
      "1\n",
      "3\n",
      "5\n",
      "7\n",
      "9\n"
     ]
    }
   ],
   "source": [
    "#51) Wap to Print all Odd Number 1 to 100. \n",
    "\n",
    "for o in range(1,10,2):\n",
    "    print(o)"
   ]
  },
  {
   "cell_type": "code",
   "execution_count": 3,
   "id": "c7c49a4a",
   "metadata": {},
   "outputs": [
    {
     "name": "stdout",
     "output_type": "stream",
     "text": [
      "Enter A Word:malayalam\n",
      "The Word is a palindrome:- malayalam\n"
     ]
    }
   ],
   "source": [
    "#52) Wap to Check entered Number is Palidramic or not.\n",
    "s=input(\"Enter A Word:\")  \n",
    "if(s==s[::-1]):  \n",
    "      print(\"The Word is a palindrome:-\",s)  \n",
    "else:  \n",
    "      print(\"The Word is not a palindrome\")  "
   ]
  },
  {
   "cell_type": "code",
   "execution_count": 4,
   "id": "156c1c9d",
   "metadata": {},
   "outputs": [
    {
     "name": "stdout",
     "output_type": "stream",
     "text": [
      "enter a string5\n",
      "tirth\n",
      "tirth\n",
      "tirth\n",
      "5\n"
     ]
    }
   ],
   "source": [
    "s='tirth'\n",
    "t=\"tirth\"\n",
    "m=\"\"\"tirth\"\"\"\n",
    "string=input('enter a string')\n",
    "print(s)\n",
    "print(t)\n",
    "print(m)\n",
    "print(string)"
   ]
  },
  {
   "cell_type": "code",
   "execution_count": 1,
   "id": "70566df2",
   "metadata": {},
   "outputs": [
    {
     "name": "stdout",
     "output_type": "stream",
     "text": [
      "5\n"
     ]
    }
   ],
   "source": [
    "s='tirth'\n",
    "l=len(s)\n",
    "print(l)"
   ]
  },
  {
   "cell_type": "code",
   "execution_count": 6,
   "id": "c50aeed5",
   "metadata": {},
   "outputs": [
    {
     "name": "stdout",
     "output_type": "stream",
     "text": [
      "ab7cd\n",
      "--------------------------------------------------\n"
     ]
    }
   ],
   "source": [
    "a='ab'+'7'+'cd'\n",
    "b='-'*50\n",
    "print(a)\n",
    "print(b)"
   ]
  },
  {
   "cell_type": "code",
   "execution_count": 16,
   "id": "07e5e235",
   "metadata": {},
   "outputs": [
    {
     "name": "stdout",
     "output_type": "stream",
     "text": [
      "Enter character:-5\n",
      "vowel\n"
     ]
    }
   ],
   "source": [
    "x=input(\"Enter character:-\")\n",
    "if x in 'tirth95':\n",
    "    print(\"vowel\")\n",
    "else:\n",
    "    print(\"consonent\")"
   ]
  },
  {
   "cell_type": "code",
   "execution_count": 45,
   "id": "28b6ab24",
   "metadata": {},
   "outputs": [
    {
     "name": "stdout",
     "output_type": "stream",
     "text": [
      "tirth\n"
     ]
    }
   ],
   "source": [
    "a=\"tirth\"\n",
    "\n",
    "print(a)"
   ]
  },
  {
   "cell_type": "code",
   "execution_count": 32,
   "id": "91d732c5",
   "metadata": {},
   "outputs": [
    {
     "name": "stdout",
     "output_type": "stream",
     "text": [
      "t\n",
      "i\n",
      "h\n",
      "t\n"
     ]
    }
   ],
   "source": [
    "#..Indexing..#\n",
    "s=\"tirth\"\n",
    "s1=s[0]\n",
    "s2=s[1]\n",
    "s3=s[-1]\n",
    "s4=s[-2]\n",
    "print(s1)\n",
    "print(s2)\n",
    "print(s3)\n",
    "print(s4)"
   ]
  },
  {
   "cell_type": "code",
   "execution_count": 28,
   "id": "5b425a72",
   "metadata": {},
   "outputs": [
    {
     "name": "stdout",
     "output_type": "stream",
     "text": [
      "rth\n",
      "Tirth\n",
      "Modi\n",
      "di\n",
      "TirthModi\n",
      "itM\n",
      "idoMhtriT\n"
     ]
    }
   ],
   "source": [
    "#..Slices..#\n",
    "  #012345678\n",
    "s=\"TirthModi\"\n",
    "print(s[2:5])\n",
    "print(s[:5])\n",
    "print(s[5:])\n",
    "print(s[-2:])\n",
    "print(s[:])\n",
    "print(s[1:7:2])\n",
    "print(s[::-1])"
   ]
  },
  {
   "cell_type": "code",
   "execution_count": 25,
   "id": "86ef5436",
   "metadata": {},
   "outputs": [
    {
     "name": "stdout",
     "output_type": "stream",
     "text": [
      "1\n",
      "0\n",
      "rirrh\n",
      "True\n",
      "TIRTH\n",
      "tirth\n"
     ]
    }
   ],
   "source": [
    "#..String Methods..#\n",
    "x=\"tirth\"\n",
    "x1=\"tirth\"\n",
    "x2=\"TIRTH\"\n",
    "y=x.count('i')\n",
    "y1=x.index('t')\n",
    "x=x.replace('t','r')\n",
    "print(y)\n",
    "print(y1)\n",
    "print(x)\n",
    "print(x.isalpha())\n",
    "print(x1.upper())\n",
    "print(x2.lower())"
   ]
  },
  {
   "cell_type": "code",
   "execution_count": 52,
   "id": "8aab0b18",
   "metadata": {},
   "outputs": [
    {
     "name": "stdout",
     "output_type": "stream",
     "text": [
      "Enter Character:-tirth\n",
      "5\n"
     ]
    }
   ],
   "source": [
    "#80) (a) The total number of characters in the string\n",
    "\n",
    "a=input(\"Enter Character:-\")\n",
    "l=len(a)\n",
    "print(l)\n",
    "    "
   ]
  },
  {
   "cell_type": "code",
   "execution_count": 54,
   "id": "1f48d388",
   "metadata": {},
   "outputs": [
    {
     "name": "stdout",
     "output_type": "stream",
     "text": [
      "**********\n"
     ]
    }
   ],
   "source": [
    "#80) (b) The string repeated 10 times \n",
    "\n",
    "a='*'*10\n",
    "print(a)\n"
   ]
  },
  {
   "cell_type": "code",
   "execution_count": 55,
   "id": "4a856eb6",
   "metadata": {},
   "outputs": [
    {
     "name": "stdout",
     "output_type": "stream",
     "text": [
      "t\n"
     ]
    }
   ],
   "source": [
    "#80) (c) The first character of the string (remember that string indices start at 0) \n",
    "\n",
    "a=\"tirth\"\n",
    "print(a[0])"
   ]
  },
  {
   "cell_type": "code",
   "execution_count": 58,
   "id": "27ec01cc",
   "metadata": {},
   "outputs": [
    {
     "name": "stdout",
     "output_type": "stream",
     "text": [
      "tir\n"
     ]
    }
   ],
   "source": [
    "#80) (d) The first three characters of the string\n",
    "\n",
    "a=\"tirth\"\n",
    "print(a[0:-2])"
   ]
  },
  {
   "cell_type": "code",
   "execution_count": 65,
   "id": "508c544a",
   "metadata": {},
   "outputs": [
    {
     "name": "stdout",
     "output_type": "stream",
     "text": [
      "rth\n"
     ]
    }
   ],
   "source": [
    "# 80)(e) The last three characters of the string\n",
    "\n",
    "a=\"tirth\"\n",
    "print(a[2:])"
   ]
  },
  {
   "cell_type": "code",
   "execution_count": 4,
   "id": "8b8ae643",
   "metadata": {},
   "outputs": [
    {
     "name": "stdout",
     "output_type": "stream",
     "text": [
      "Enter Charactertirth modi\n",
      "idom htrit\n"
     ]
    }
   ],
   "source": [
    "#80) (f) The string backwards\n",
    "\n",
    "a=input(\"Enter Character\")\n",
    "print(a[::-1])"
   ]
  },
  {
   "cell_type": "code",
   "execution_count": 15,
   "id": "80fbdce3",
   "metadata": {},
   "outputs": [
    {
     "name": "stdout",
     "output_type": "stream",
     "text": [
      "Enter Value:-0123456789\n",
      "6\n"
     ]
    }
   ],
   "source": [
    "#80) (g) The seventh character of the string if the string is long enough and a message otherwise\n",
    "\n",
    "a=input(\"Enter Value:-\")\n",
    "if a:\n",
    "    print(a[6])\n",
    "else:\n",
    "    print(\"the string is long enough\")"
   ]
  },
  {
   "cell_type": "code",
   "execution_count": 18,
   "id": "97f00d30",
   "metadata": {},
   "outputs": [
    {
     "name": "stdout",
     "output_type": "stream",
     "text": [
      "irt\n",
      "TIRTH\n"
     ]
    }
   ],
   "source": [
    "#80) (h) The string with its first and last characters removed (i) The string in all caps\n",
    "\n",
    "a=\"tirth\"\n",
    "print(a[1:-1])\n",
    "print(a.upper())"
   ]
  },
  {
   "cell_type": "code",
   "execution_count": 19,
   "id": "20df9090",
   "metadata": {},
   "outputs": [
    {
     "name": "stdout",
     "output_type": "stream",
     "text": [
      "eireh\n"
     ]
    }
   ],
   "source": [
    "#80) (j) The string with every a replaced with an e\n",
    "\n",
    "a=\"tirth\"\n",
    "a=a.replace('t','e')\n",
    "print(a)"
   ]
  },
  {
   "cell_type": "code",
   "execution_count": null,
   "id": "1990b18c",
   "metadata": {},
   "outputs": [],
   "source": []
  }
 ],
 "metadata": {
  "kernelspec": {
   "display_name": "Python 3 (ipykernel)",
   "language": "python",
   "name": "python3"
  },
  "language_info": {
   "codemirror_mode": {
    "name": "ipython",
    "version": 3
   },
   "file_extension": ".py",
   "mimetype": "text/x-python",
   "name": "python",
   "nbconvert_exporter": "python",
   "pygments_lexer": "ipython3",
   "version": "3.11.3"
  }
 },
 "nbformat": 4,
 "nbformat_minor": 5
}
