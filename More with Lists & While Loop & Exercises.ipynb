{
 "cells": [
  {
   "cell_type": "code",
   "execution_count": 6,
   "id": "599d2536",
   "metadata": {},
   "outputs": [
    {
     "name": "stdout",
     "output_type": "stream",
     "text": [
      "Enter Number:-2\n",
      "Enter Number:-5\n",
      "Enter Number:-11\n",
      "Enter Number:-33\n",
      "Enter Number:-55\n",
      "' 2+5+11+33+55 '\n"
     ]
    }
   ],
   "source": [
    "#118) Write a program that allows the user to enter five numbers (read as strings). Create a string that consists of the user’s numbers separated by plus signs. For instance, if the user enters 2, 5, 11, 33, and 55, then the string should be '2+5+11+33+55'.\n",
    "l=[]\n",
    "for i in range(5):\n",
    "    x=input(\"Enter Number:-\")\n",
    "    l.append(x)\n",
    "    x='+'.join(l)\n",
    "print(\"'\",x,\"'\")"
   ]
  },
  {
   "cell_type": "code",
   "execution_count": 8,
   "id": "01238c4e",
   "metadata": {},
   "outputs": [
    {
     "name": "stdout",
     "output_type": "stream",
     "text": [
      "Enter Sentence:-Ask the user to enter a sentence and print out the third word of the sentence.\n",
      "The third word of the sentence k\n"
     ]
    }
   ],
   "source": [
    "#119) Ask the user to enter a sentence and print out the third word of the sentence.\n",
    "l=[]\n",
    "s=input(\"Enter Sentence:-\")  \n",
    "#l1=len(s)\n",
    "print(\"The third word of the sentence\",s[2])"
   ]
  },
  {
   "cell_type": "code",
   "execution_count": 9,
   "id": "5512172d",
   "metadata": {},
   "outputs": [
    {
     "name": "stdout",
     "output_type": "stream",
     "text": [
      "Enter Sentence:-['tirth','rakeshkumar','modi']\n",
      "Every third word of the sentence:- ['r', 'k', 'd']\n"
     ]
    }
   ],
   "source": [
    "#120) Ask the user to enter a sentence and print out every third word of the sentence.\n",
    "s=eval(input(\"Enter Sentence:-\"))\n",
    "l=[]\n",
    "l.append(s)\n",
    "a=[i[2] for i in s]\n",
    "print(\"Every third word of the sentence:-\",a)"
   ]
  },
  {
   "cell_type": "code",
   "execution_count": 11,
   "id": "c2452a89",
   "metadata": {},
   "outputs": [
    {
     "name": "stdout",
     "output_type": "stream",
     "text": [
      "Enter Sentence:-['tirth','rakeshkumar','modi']\n",
      "['modi', 'tirth', 'rakeshkumar']\n"
     ]
    }
   ],
   "source": [
    "#121) Write a program that asks the user to enter a sentence and then randomly rearranges the words of the sentence. Don’t worry about getting punctuation or capitalization correct.\n",
    "\n",
    "s=eval(input(\"Enter Sentence:-\"))\n",
    "from random import shuffle\n",
    "shuffle(s)\n",
    "print(s)"
   ]
  },
  {
   "cell_type": "code",
   "execution_count": null,
   "id": "8d9d479f",
   "metadata": {},
   "outputs": [],
   "source": []
  }
 ],
 "metadata": {
  "kernelspec": {
   "display_name": "Python 3 (ipykernel)",
   "language": "python",
   "name": "python3"
  },
  "language_info": {
   "codemirror_mode": {
    "name": "ipython",
    "version": 3
   },
   "file_extension": ".py",
   "mimetype": "text/x-python",
   "name": "python",
   "nbconvert_exporter": "python",
   "pygments_lexer": "ipython3",
   "version": "3.11.3"
  }
 },
 "nbformat": 4,
 "nbformat_minor": 5
}
